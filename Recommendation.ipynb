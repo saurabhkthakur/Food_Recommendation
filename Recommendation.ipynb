{
 "cells": [
  {
   "cell_type": "code",
   "execution_count": 4,
   "metadata": {},
   "outputs": [],
   "source": [
    "import pandas as pd\n",
    "import numpy as np"
   ]
  },
  {
   "cell_type": "code",
   "execution_count": 32,
   "metadata": {},
   "outputs": [],
   "source": [
    "data = pd.read_excel('Food.xlsx')"
   ]
  },
  {
   "cell_type": "code",
   "execution_count": 33,
   "metadata": {},
   "outputs": [
    {
     "data": {
      "text/html": [
       "<div>\n",
       "<style scoped>\n",
       "    .dataframe tbody tr th:only-of-type {\n",
       "        vertical-align: middle;\n",
       "    }\n",
       "\n",
       "    .dataframe tbody tr th {\n",
       "        vertical-align: top;\n",
       "    }\n",
       "\n",
       "    .dataframe thead th {\n",
       "        text-align: right;\n",
       "    }\n",
       "</style>\n",
       "<table border=\"1\" class=\"dataframe\">\n",
       "  <thead>\n",
       "    <tr style=\"text-align: right;\">\n",
       "      <th></th>\n",
       "      <th>Timestamp</th>\n",
       "      <th>PUNJABI TADKA  [Aloo Parantha]</th>\n",
       "      <th>PUNJABI TADKA  [Butter Chicken ]</th>\n",
       "      <th>PUNJABI TADKA  [Daal Makhani ]</th>\n",
       "      <th>PUNJABI TADKA  [Sarson Da Saag ]</th>\n",
       "      <th>LUCKNOW KA ZAAYKA  [Mughlai Chicken]</th>\n",
       "      <th>LUCKNOW KA ZAAYKA  [Kabaab ]</th>\n",
       "      <th>LUCKNOW KA ZAAYKA  [Navratan Korma ]</th>\n",
       "      <th>LUCKNOW KA ZAAYKA  [Biryani ]</th>\n",
       "      <th>LET US GO SOUTH [Idli ]</th>\n",
       "      <th>...</th>\n",
       "      <th>HOW ABOUT SOME CHAAT ?  [Dahi Puri ]</th>\n",
       "      <th>HOW ABOUT SOME CHAAT ?  [Sev Puri ]</th>\n",
       "      <th>FAST AND FATTY  [Pizza]</th>\n",
       "      <th>FAST AND FATTY  [Burger]</th>\n",
       "      <th>FAST AND FATTY  [French Fries]</th>\n",
       "      <th>FAST AND FATTY  [Pasta]</th>\n",
       "      <th>KUCH MEETHA HO JAYE  [Rasgulla ]</th>\n",
       "      <th>KUCH MEETHA HO JAYE  [Jalebi]</th>\n",
       "      <th>KUCH MEETHA HO JAYE  [Barfi ]</th>\n",
       "      <th>KUCH MEETHA HO JAYE  [Chocolate cake ]</th>\n",
       "    </tr>\n",
       "  </thead>\n",
       "  <tbody>\n",
       "    <tr>\n",
       "      <td>0</td>\n",
       "      <td>5/28/2020 19:32:32</td>\n",
       "      <td>3</td>\n",
       "      <td>1</td>\n",
       "      <td>4</td>\n",
       "      <td>4</td>\n",
       "      <td>1</td>\n",
       "      <td>1</td>\n",
       "      <td>1</td>\n",
       "      <td>4</td>\n",
       "      <td>3</td>\n",
       "      <td>...</td>\n",
       "      <td>4</td>\n",
       "      <td>3</td>\n",
       "      <td>3</td>\n",
       "      <td>4</td>\n",
       "      <td>2</td>\n",
       "      <td>3</td>\n",
       "      <td>4</td>\n",
       "      <td>4</td>\n",
       "      <td>4</td>\n",
       "      <td>4</td>\n",
       "    </tr>\n",
       "    <tr>\n",
       "      <td>1</td>\n",
       "      <td>5/28/2020 19:55:22</td>\n",
       "      <td>4</td>\n",
       "      <td>1</td>\n",
       "      <td>3</td>\n",
       "      <td>2</td>\n",
       "      <td>1</td>\n",
       "      <td>1</td>\n",
       "      <td>1</td>\n",
       "      <td>1</td>\n",
       "      <td>4</td>\n",
       "      <td>...</td>\n",
       "      <td>4</td>\n",
       "      <td>4</td>\n",
       "      <td>4</td>\n",
       "      <td>4</td>\n",
       "      <td>4</td>\n",
       "      <td>4</td>\n",
       "      <td>4</td>\n",
       "      <td>4</td>\n",
       "      <td>4</td>\n",
       "      <td>4</td>\n",
       "    </tr>\n",
       "    <tr>\n",
       "      <td>2</td>\n",
       "      <td>5/28/2020 19:55:34</td>\n",
       "      <td>4</td>\n",
       "      <td>4</td>\n",
       "      <td>4</td>\n",
       "      <td>2</td>\n",
       "      <td>2</td>\n",
       "      <td>4</td>\n",
       "      <td>2</td>\n",
       "      <td>4</td>\n",
       "      <td>2</td>\n",
       "      <td>...</td>\n",
       "      <td>3</td>\n",
       "      <td>3</td>\n",
       "      <td>4</td>\n",
       "      <td>4</td>\n",
       "      <td>4</td>\n",
       "      <td>4</td>\n",
       "      <td>4</td>\n",
       "      <td>3</td>\n",
       "      <td>4</td>\n",
       "      <td>4</td>\n",
       "    </tr>\n",
       "    <tr>\n",
       "      <td>3</td>\n",
       "      <td>5/28/2020 19:55:38</td>\n",
       "      <td>4</td>\n",
       "      <td>1</td>\n",
       "      <td>2</td>\n",
       "      <td>1</td>\n",
       "      <td>1</td>\n",
       "      <td>1</td>\n",
       "      <td>1</td>\n",
       "      <td>1</td>\n",
       "      <td>4</td>\n",
       "      <td>...</td>\n",
       "      <td>4</td>\n",
       "      <td>4</td>\n",
       "      <td>4</td>\n",
       "      <td>4</td>\n",
       "      <td>4</td>\n",
       "      <td>4</td>\n",
       "      <td>4</td>\n",
       "      <td>4</td>\n",
       "      <td>4</td>\n",
       "      <td>4</td>\n",
       "    </tr>\n",
       "    <tr>\n",
       "      <td>4</td>\n",
       "      <td>5/28/2020 19:56:17</td>\n",
       "      <td>3</td>\n",
       "      <td>4</td>\n",
       "      <td>3</td>\n",
       "      <td>3</td>\n",
       "      <td>4</td>\n",
       "      <td>4</td>\n",
       "      <td>2</td>\n",
       "      <td>3</td>\n",
       "      <td>1</td>\n",
       "      <td>...</td>\n",
       "      <td>4</td>\n",
       "      <td>4</td>\n",
       "      <td>4</td>\n",
       "      <td>4</td>\n",
       "      <td>2</td>\n",
       "      <td>1</td>\n",
       "      <td>4</td>\n",
       "      <td>3</td>\n",
       "      <td>4</td>\n",
       "      <td>4</td>\n",
       "    </tr>\n",
       "  </tbody>\n",
       "</table>\n",
       "<p>5 rows × 33 columns</p>\n",
       "</div>"
      ],
      "text/plain": [
       "            Timestamp  PUNJABI TADKA  [Aloo Parantha]  \\\n",
       "0  5/28/2020 19:32:32                               3   \n",
       "1  5/28/2020 19:55:22                               4   \n",
       "2  5/28/2020 19:55:34                               4   \n",
       "3  5/28/2020 19:55:38                               4   \n",
       "4  5/28/2020 19:56:17                               3   \n",
       "\n",
       "   PUNJABI TADKA  [Butter Chicken ]  PUNJABI TADKA  [Daal Makhani ]  \\\n",
       "0                                 1                               4   \n",
       "1                                 1                               3   \n",
       "2                                 4                               4   \n",
       "3                                 1                               2   \n",
       "4                                 4                               3   \n",
       "\n",
       "   PUNJABI TADKA  [Sarson Da Saag ]  LUCKNOW KA ZAAYKA  [Mughlai Chicken]  \\\n",
       "0                                 4                                     1   \n",
       "1                                 2                                     1   \n",
       "2                                 2                                     2   \n",
       "3                                 1                                     1   \n",
       "4                                 3                                     4   \n",
       "\n",
       "   LUCKNOW KA ZAAYKA  [Kabaab ]  LUCKNOW KA ZAAYKA  [Navratan Korma ]  \\\n",
       "0                             1                                     1   \n",
       "1                             1                                     1   \n",
       "2                             4                                     2   \n",
       "3                             1                                     1   \n",
       "4                             4                                     2   \n",
       "\n",
       "   LUCKNOW KA ZAAYKA  [Biryani ]  LET US GO SOUTH [Idli ]  ...  \\\n",
       "0                              4                        3  ...   \n",
       "1                              1                        4  ...   \n",
       "2                              4                        2  ...   \n",
       "3                              1                        4  ...   \n",
       "4                              3                        1  ...   \n",
       "\n",
       "   HOW ABOUT SOME CHAAT ?  [Dahi Puri ]  HOW ABOUT SOME CHAAT ?  [Sev Puri ]  \\\n",
       "0                                     4                                    3   \n",
       "1                                     4                                    4   \n",
       "2                                     3                                    3   \n",
       "3                                     4                                    4   \n",
       "4                                     4                                    4   \n",
       "\n",
       "   FAST AND FATTY  [Pizza]  FAST AND FATTY  [Burger]  \\\n",
       "0                        3                         4   \n",
       "1                        4                         4   \n",
       "2                        4                         4   \n",
       "3                        4                         4   \n",
       "4                        4                         4   \n",
       "\n",
       "   FAST AND FATTY  [French Fries]  FAST AND FATTY  [Pasta]  \\\n",
       "0                               2                        3   \n",
       "1                               4                        4   \n",
       "2                               4                        4   \n",
       "3                               4                        4   \n",
       "4                               2                        1   \n",
       "\n",
       "   KUCH MEETHA HO JAYE  [Rasgulla ]  KUCH MEETHA HO JAYE  [Jalebi]  \\\n",
       "0                                 4                              4   \n",
       "1                                 4                              4   \n",
       "2                                 4                              3   \n",
       "3                                 4                              4   \n",
       "4                                 4                              3   \n",
       "\n",
       "   KUCH MEETHA HO JAYE  [Barfi ]  KUCH MEETHA HO JAYE  [Chocolate cake ]  \n",
       "0                              4                                       4  \n",
       "1                              4                                       4  \n",
       "2                              4                                       4  \n",
       "3                              4                                       4  \n",
       "4                              4                                       4  \n",
       "\n",
       "[5 rows x 33 columns]"
      ]
     },
     "execution_count": 33,
     "metadata": {},
     "output_type": "execute_result"
    }
   ],
   "source": [
    "data.head()"
   ]
  },
  {
   "cell_type": "code",
   "execution_count": 34,
   "metadata": {},
   "outputs": [],
   "source": [
    "user_list=[]\n",
    "for i in range(len(data)):\n",
    "    user_list.append('User__'+str(i))\n",
    "    "
   ]
  },
  {
   "cell_type": "code",
   "execution_count": 35,
   "metadata": {},
   "outputs": [],
   "source": [
    "data['user_name'] = user_list"
   ]
  },
  {
   "cell_type": "code",
   "execution_count": 36,
   "metadata": {},
   "outputs": [],
   "source": [
    "data.set_index('user_name', drop=True,inplace=True)"
   ]
  },
  {
   "cell_type": "code",
   "execution_count": 39,
   "metadata": {},
   "outputs": [
    {
     "data": {
      "text/html": [
       "<div>\n",
       "<style scoped>\n",
       "    .dataframe tbody tr th:only-of-type {\n",
       "        vertical-align: middle;\n",
       "    }\n",
       "\n",
       "    .dataframe tbody tr th {\n",
       "        vertical-align: top;\n",
       "    }\n",
       "\n",
       "    .dataframe thead th {\n",
       "        text-align: right;\n",
       "    }\n",
       "</style>\n",
       "<table border=\"1\" class=\"dataframe\">\n",
       "  <thead>\n",
       "    <tr style=\"text-align: right;\">\n",
       "      <th></th>\n",
       "      <th>PUNJABI TADKA  [Aloo Parantha]</th>\n",
       "      <th>PUNJABI TADKA  [Butter Chicken ]</th>\n",
       "      <th>PUNJABI TADKA  [Daal Makhani ]</th>\n",
       "      <th>PUNJABI TADKA  [Sarson Da Saag ]</th>\n",
       "      <th>LUCKNOW KA ZAAYKA  [Mughlai Chicken]</th>\n",
       "      <th>LUCKNOW KA ZAAYKA  [Kabaab ]</th>\n",
       "      <th>LUCKNOW KA ZAAYKA  [Navratan Korma ]</th>\n",
       "      <th>LUCKNOW KA ZAAYKA  [Biryani ]</th>\n",
       "      <th>LET US GO SOUTH [Idli ]</th>\n",
       "      <th>LET US GO SOUTH [Bisi Bele Bhaat ]</th>\n",
       "      <th>...</th>\n",
       "      <th>HOW ABOUT SOME CHAAT ?  [Dahi Puri ]</th>\n",
       "      <th>HOW ABOUT SOME CHAAT ?  [Sev Puri ]</th>\n",
       "      <th>FAST AND FATTY  [Pizza]</th>\n",
       "      <th>FAST AND FATTY  [Burger]</th>\n",
       "      <th>FAST AND FATTY  [French Fries]</th>\n",
       "      <th>FAST AND FATTY  [Pasta]</th>\n",
       "      <th>KUCH MEETHA HO JAYE  [Rasgulla ]</th>\n",
       "      <th>KUCH MEETHA HO JAYE  [Jalebi]</th>\n",
       "      <th>KUCH MEETHA HO JAYE  [Barfi ]</th>\n",
       "      <th>KUCH MEETHA HO JAYE  [Chocolate cake ]</th>\n",
       "    </tr>\n",
       "    <tr>\n",
       "      <th>user_name</th>\n",
       "      <th></th>\n",
       "      <th></th>\n",
       "      <th></th>\n",
       "      <th></th>\n",
       "      <th></th>\n",
       "      <th></th>\n",
       "      <th></th>\n",
       "      <th></th>\n",
       "      <th></th>\n",
       "      <th></th>\n",
       "      <th></th>\n",
       "      <th></th>\n",
       "      <th></th>\n",
       "      <th></th>\n",
       "      <th></th>\n",
       "      <th></th>\n",
       "      <th></th>\n",
       "      <th></th>\n",
       "      <th></th>\n",
       "      <th></th>\n",
       "      <th></th>\n",
       "    </tr>\n",
       "  </thead>\n",
       "  <tbody>\n",
       "    <tr>\n",
       "      <td>User__0</td>\n",
       "      <td>3</td>\n",
       "      <td>1</td>\n",
       "      <td>4</td>\n",
       "      <td>4</td>\n",
       "      <td>1</td>\n",
       "      <td>1</td>\n",
       "      <td>1</td>\n",
       "      <td>4</td>\n",
       "      <td>3</td>\n",
       "      <td>4</td>\n",
       "      <td>...</td>\n",
       "      <td>4</td>\n",
       "      <td>3</td>\n",
       "      <td>3</td>\n",
       "      <td>4</td>\n",
       "      <td>2</td>\n",
       "      <td>3</td>\n",
       "      <td>4</td>\n",
       "      <td>4</td>\n",
       "      <td>4</td>\n",
       "      <td>4</td>\n",
       "    </tr>\n",
       "    <tr>\n",
       "      <td>User__1</td>\n",
       "      <td>4</td>\n",
       "      <td>1</td>\n",
       "      <td>3</td>\n",
       "      <td>2</td>\n",
       "      <td>1</td>\n",
       "      <td>1</td>\n",
       "      <td>1</td>\n",
       "      <td>1</td>\n",
       "      <td>4</td>\n",
       "      <td>2</td>\n",
       "      <td>...</td>\n",
       "      <td>4</td>\n",
       "      <td>4</td>\n",
       "      <td>4</td>\n",
       "      <td>4</td>\n",
       "      <td>4</td>\n",
       "      <td>4</td>\n",
       "      <td>4</td>\n",
       "      <td>4</td>\n",
       "      <td>4</td>\n",
       "      <td>4</td>\n",
       "    </tr>\n",
       "    <tr>\n",
       "      <td>User__2</td>\n",
       "      <td>4</td>\n",
       "      <td>4</td>\n",
       "      <td>4</td>\n",
       "      <td>2</td>\n",
       "      <td>2</td>\n",
       "      <td>4</td>\n",
       "      <td>2</td>\n",
       "      <td>4</td>\n",
       "      <td>2</td>\n",
       "      <td>2</td>\n",
       "      <td>...</td>\n",
       "      <td>3</td>\n",
       "      <td>3</td>\n",
       "      <td>4</td>\n",
       "      <td>4</td>\n",
       "      <td>4</td>\n",
       "      <td>4</td>\n",
       "      <td>4</td>\n",
       "      <td>3</td>\n",
       "      <td>4</td>\n",
       "      <td>4</td>\n",
       "    </tr>\n",
       "    <tr>\n",
       "      <td>User__3</td>\n",
       "      <td>4</td>\n",
       "      <td>1</td>\n",
       "      <td>2</td>\n",
       "      <td>1</td>\n",
       "      <td>1</td>\n",
       "      <td>1</td>\n",
       "      <td>1</td>\n",
       "      <td>1</td>\n",
       "      <td>4</td>\n",
       "      <td>2</td>\n",
       "      <td>...</td>\n",
       "      <td>4</td>\n",
       "      <td>4</td>\n",
       "      <td>4</td>\n",
       "      <td>4</td>\n",
       "      <td>4</td>\n",
       "      <td>4</td>\n",
       "      <td>4</td>\n",
       "      <td>4</td>\n",
       "      <td>4</td>\n",
       "      <td>4</td>\n",
       "    </tr>\n",
       "    <tr>\n",
       "      <td>User__4</td>\n",
       "      <td>3</td>\n",
       "      <td>4</td>\n",
       "      <td>3</td>\n",
       "      <td>3</td>\n",
       "      <td>4</td>\n",
       "      <td>4</td>\n",
       "      <td>2</td>\n",
       "      <td>3</td>\n",
       "      <td>1</td>\n",
       "      <td>1</td>\n",
       "      <td>...</td>\n",
       "      <td>4</td>\n",
       "      <td>4</td>\n",
       "      <td>4</td>\n",
       "      <td>4</td>\n",
       "      <td>2</td>\n",
       "      <td>1</td>\n",
       "      <td>4</td>\n",
       "      <td>3</td>\n",
       "      <td>4</td>\n",
       "      <td>4</td>\n",
       "    </tr>\n",
       "  </tbody>\n",
       "</table>\n",
       "<p>5 rows × 32 columns</p>\n",
       "</div>"
      ],
      "text/plain": [
       "           PUNJABI TADKA  [Aloo Parantha]  PUNJABI TADKA  [Butter Chicken ]  \\\n",
       "user_name                                                                     \n",
       "User__0                                 3                                 1   \n",
       "User__1                                 4                                 1   \n",
       "User__2                                 4                                 4   \n",
       "User__3                                 4                                 1   \n",
       "User__4                                 3                                 4   \n",
       "\n",
       "           PUNJABI TADKA  [Daal Makhani ]  PUNJABI TADKA  [Sarson Da Saag ]  \\\n",
       "user_name                                                                     \n",
       "User__0                                 4                                 4   \n",
       "User__1                                 3                                 2   \n",
       "User__2                                 4                                 2   \n",
       "User__3                                 2                                 1   \n",
       "User__4                                 3                                 3   \n",
       "\n",
       "           LUCKNOW KA ZAAYKA  [Mughlai Chicken]  LUCKNOW KA ZAAYKA  [Kabaab ]  \\\n",
       "user_name                                                                       \n",
       "User__0                                       1                             1   \n",
       "User__1                                       1                             1   \n",
       "User__2                                       2                             4   \n",
       "User__3                                       1                             1   \n",
       "User__4                                       4                             4   \n",
       "\n",
       "           LUCKNOW KA ZAAYKA  [Navratan Korma ]  \\\n",
       "user_name                                         \n",
       "User__0                                       1   \n",
       "User__1                                       1   \n",
       "User__2                                       2   \n",
       "User__3                                       1   \n",
       "User__4                                       2   \n",
       "\n",
       "           LUCKNOW KA ZAAYKA  [Biryani ]  LET US GO SOUTH [Idli ]  \\\n",
       "user_name                                                           \n",
       "User__0                                4                        3   \n",
       "User__1                                1                        4   \n",
       "User__2                                4                        2   \n",
       "User__3                                1                        4   \n",
       "User__4                                3                        1   \n",
       "\n",
       "           LET US GO SOUTH [Bisi Bele Bhaat ]  ...  \\\n",
       "user_name                                      ...   \n",
       "User__0                                     4  ...   \n",
       "User__1                                     2  ...   \n",
       "User__2                                     2  ...   \n",
       "User__3                                     2  ...   \n",
       "User__4                                     1  ...   \n",
       "\n",
       "           HOW ABOUT SOME CHAAT ?  [Dahi Puri ]  \\\n",
       "user_name                                         \n",
       "User__0                                       4   \n",
       "User__1                                       4   \n",
       "User__2                                       3   \n",
       "User__3                                       4   \n",
       "User__4                                       4   \n",
       "\n",
       "           HOW ABOUT SOME CHAAT ?  [Sev Puri ]  FAST AND FATTY  [Pizza]  \\\n",
       "user_name                                                                 \n",
       "User__0                                      3                        3   \n",
       "User__1                                      4                        4   \n",
       "User__2                                      3                        4   \n",
       "User__3                                      4                        4   \n",
       "User__4                                      4                        4   \n",
       "\n",
       "           FAST AND FATTY  [Burger]  FAST AND FATTY  [French Fries]  \\\n",
       "user_name                                                             \n",
       "User__0                           4                               2   \n",
       "User__1                           4                               4   \n",
       "User__2                           4                               4   \n",
       "User__3                           4                               4   \n",
       "User__4                           4                               2   \n",
       "\n",
       "           FAST AND FATTY  [Pasta]  KUCH MEETHA HO JAYE  [Rasgulla ]  \\\n",
       "user_name                                                              \n",
       "User__0                          3                                 4   \n",
       "User__1                          4                                 4   \n",
       "User__2                          4                                 4   \n",
       "User__3                          4                                 4   \n",
       "User__4                          1                                 4   \n",
       "\n",
       "           KUCH MEETHA HO JAYE  [Jalebi]  KUCH MEETHA HO JAYE  [Barfi ]  \\\n",
       "user_name                                                                 \n",
       "User__0                                4                              4   \n",
       "User__1                                4                              4   \n",
       "User__2                                3                              4   \n",
       "User__3                                4                              4   \n",
       "User__4                                3                              4   \n",
       "\n",
       "           KUCH MEETHA HO JAYE  [Chocolate cake ]  \n",
       "user_name                                          \n",
       "User__0                                         4  \n",
       "User__1                                         4  \n",
       "User__2                                         4  \n",
       "User__3                                         4  \n",
       "User__4                                         4  \n",
       "\n",
       "[5 rows x 32 columns]"
      ]
     },
     "execution_count": 39,
     "metadata": {},
     "output_type": "execute_result"
    }
   ],
   "source": [
    "data.head()"
   ]
  },
  {
   "cell_type": "code",
   "execution_count": 40,
   "metadata": {},
   "outputs": [],
   "source": [
    "food_similarity = data.corr(method = 'spearman')"
   ]
  },
  {
   "cell_type": "code",
   "execution_count": 41,
   "metadata": {},
   "outputs": [
    {
     "data": {
      "text/html": [
       "<div>\n",
       "<style scoped>\n",
       "    .dataframe tbody tr th:only-of-type {\n",
       "        vertical-align: middle;\n",
       "    }\n",
       "\n",
       "    .dataframe tbody tr th {\n",
       "        vertical-align: top;\n",
       "    }\n",
       "\n",
       "    .dataframe thead th {\n",
       "        text-align: right;\n",
       "    }\n",
       "</style>\n",
       "<table border=\"1\" class=\"dataframe\">\n",
       "  <thead>\n",
       "    <tr style=\"text-align: right;\">\n",
       "      <th></th>\n",
       "      <th>PUNJABI TADKA  [Aloo Parantha]</th>\n",
       "      <th>PUNJABI TADKA  [Butter Chicken ]</th>\n",
       "      <th>PUNJABI TADKA  [Daal Makhani ]</th>\n",
       "      <th>PUNJABI TADKA  [Sarson Da Saag ]</th>\n",
       "      <th>LUCKNOW KA ZAAYKA  [Mughlai Chicken]</th>\n",
       "      <th>LUCKNOW KA ZAAYKA  [Kabaab ]</th>\n",
       "      <th>LUCKNOW KA ZAAYKA  [Navratan Korma ]</th>\n",
       "      <th>LUCKNOW KA ZAAYKA  [Biryani ]</th>\n",
       "      <th>LET US GO SOUTH [Idli ]</th>\n",
       "      <th>LET US GO SOUTH [Bisi Bele Bhaat ]</th>\n",
       "      <th>...</th>\n",
       "      <th>HOW ABOUT SOME CHAAT ?  [Dahi Puri ]</th>\n",
       "      <th>HOW ABOUT SOME CHAAT ?  [Sev Puri ]</th>\n",
       "      <th>FAST AND FATTY  [Pizza]</th>\n",
       "      <th>FAST AND FATTY  [Burger]</th>\n",
       "      <th>FAST AND FATTY  [French Fries]</th>\n",
       "      <th>FAST AND FATTY  [Pasta]</th>\n",
       "      <th>KUCH MEETHA HO JAYE  [Rasgulla ]</th>\n",
       "      <th>KUCH MEETHA HO JAYE  [Jalebi]</th>\n",
       "      <th>KUCH MEETHA HO JAYE  [Barfi ]</th>\n",
       "      <th>KUCH MEETHA HO JAYE  [Chocolate cake ]</th>\n",
       "    </tr>\n",
       "  </thead>\n",
       "  <tbody>\n",
       "    <tr>\n",
       "      <td>PUNJABI TADKA  [Aloo Parantha]</td>\n",
       "      <td>1.000000</td>\n",
       "      <td>-0.079217</td>\n",
       "      <td>0.217085</td>\n",
       "      <td>0.128142</td>\n",
       "      <td>-0.097995</td>\n",
       "      <td>0.072706</td>\n",
       "      <td>0.098952</td>\n",
       "      <td>-0.014323</td>\n",
       "      <td>0.060597</td>\n",
       "      <td>0.155281</td>\n",
       "      <td>...</td>\n",
       "      <td>0.103925</td>\n",
       "      <td>0.103015</td>\n",
       "      <td>0.170777</td>\n",
       "      <td>0.200097</td>\n",
       "      <td>0.258228</td>\n",
       "      <td>0.081620</td>\n",
       "      <td>0.206732</td>\n",
       "      <td>0.193481</td>\n",
       "      <td>0.046872</td>\n",
       "      <td>0.087582</td>\n",
       "    </tr>\n",
       "    <tr>\n",
       "      <td>PUNJABI TADKA  [Butter Chicken ]</td>\n",
       "      <td>-0.079217</td>\n",
       "      <td>1.000000</td>\n",
       "      <td>0.144155</td>\n",
       "      <td>0.009728</td>\n",
       "      <td>0.836279</td>\n",
       "      <td>0.707427</td>\n",
       "      <td>0.228237</td>\n",
       "      <td>0.481935</td>\n",
       "      <td>-0.034574</td>\n",
       "      <td>-0.047858</td>\n",
       "      <td>...</td>\n",
       "      <td>-0.022604</td>\n",
       "      <td>0.007347</td>\n",
       "      <td>0.166843</td>\n",
       "      <td>0.136907</td>\n",
       "      <td>0.112237</td>\n",
       "      <td>0.124281</td>\n",
       "      <td>0.160526</td>\n",
       "      <td>0.064378</td>\n",
       "      <td>0.135169</td>\n",
       "      <td>0.079409</td>\n",
       "    </tr>\n",
       "    <tr>\n",
       "      <td>PUNJABI TADKA  [Daal Makhani ]</td>\n",
       "      <td>0.217085</td>\n",
       "      <td>0.144155</td>\n",
       "      <td>1.000000</td>\n",
       "      <td>0.454428</td>\n",
       "      <td>0.128795</td>\n",
       "      <td>0.205962</td>\n",
       "      <td>0.231663</td>\n",
       "      <td>0.163365</td>\n",
       "      <td>0.012291</td>\n",
       "      <td>0.147782</td>\n",
       "      <td>...</td>\n",
       "      <td>0.097889</td>\n",
       "      <td>0.002589</td>\n",
       "      <td>0.211083</td>\n",
       "      <td>0.163163</td>\n",
       "      <td>0.082322</td>\n",
       "      <td>0.217183</td>\n",
       "      <td>0.142181</td>\n",
       "      <td>0.111926</td>\n",
       "      <td>0.052326</td>\n",
       "      <td>0.164860</td>\n",
       "    </tr>\n",
       "    <tr>\n",
       "      <td>PUNJABI TADKA  [Sarson Da Saag ]</td>\n",
       "      <td>0.128142</td>\n",
       "      <td>0.009728</td>\n",
       "      <td>0.454428</td>\n",
       "      <td>1.000000</td>\n",
       "      <td>0.044359</td>\n",
       "      <td>0.096779</td>\n",
       "      <td>0.164254</td>\n",
       "      <td>0.079762</td>\n",
       "      <td>0.000989</td>\n",
       "      <td>0.220333</td>\n",
       "      <td>...</td>\n",
       "      <td>0.088892</td>\n",
       "      <td>0.023508</td>\n",
       "      <td>0.046167</td>\n",
       "      <td>0.098763</td>\n",
       "      <td>-0.030255</td>\n",
       "      <td>0.119219</td>\n",
       "      <td>-0.040984</td>\n",
       "      <td>0.107885</td>\n",
       "      <td>0.011526</td>\n",
       "      <td>0.066142</td>\n",
       "    </tr>\n",
       "    <tr>\n",
       "      <td>LUCKNOW KA ZAAYKA  [Mughlai Chicken]</td>\n",
       "      <td>-0.097995</td>\n",
       "      <td>0.836279</td>\n",
       "      <td>0.128795</td>\n",
       "      <td>0.044359</td>\n",
       "      <td>1.000000</td>\n",
       "      <td>0.763771</td>\n",
       "      <td>0.281784</td>\n",
       "      <td>0.482091</td>\n",
       "      <td>0.020477</td>\n",
       "      <td>-0.041125</td>\n",
       "      <td>...</td>\n",
       "      <td>-0.023383</td>\n",
       "      <td>0.054729</td>\n",
       "      <td>0.146300</td>\n",
       "      <td>0.121432</td>\n",
       "      <td>0.103682</td>\n",
       "      <td>0.166252</td>\n",
       "      <td>0.173559</td>\n",
       "      <td>0.108018</td>\n",
       "      <td>0.136186</td>\n",
       "      <td>0.130694</td>\n",
       "    </tr>\n",
       "  </tbody>\n",
       "</table>\n",
       "<p>5 rows × 32 columns</p>\n",
       "</div>"
      ],
      "text/plain": [
       "                                      PUNJABI TADKA  [Aloo Parantha]  \\\n",
       "PUNJABI TADKA  [Aloo Parantha]                              1.000000   \n",
       "PUNJABI TADKA  [Butter Chicken ]                           -0.079217   \n",
       "PUNJABI TADKA  [Daal Makhani ]                              0.217085   \n",
       "PUNJABI TADKA  [Sarson Da Saag ]                            0.128142   \n",
       "LUCKNOW KA ZAAYKA  [Mughlai Chicken]                       -0.097995   \n",
       "\n",
       "                                      PUNJABI TADKA  [Butter Chicken ]  \\\n",
       "PUNJABI TADKA  [Aloo Parantha]                               -0.079217   \n",
       "PUNJABI TADKA  [Butter Chicken ]                              1.000000   \n",
       "PUNJABI TADKA  [Daal Makhani ]                                0.144155   \n",
       "PUNJABI TADKA  [Sarson Da Saag ]                              0.009728   \n",
       "LUCKNOW KA ZAAYKA  [Mughlai Chicken]                          0.836279   \n",
       "\n",
       "                                      PUNJABI TADKA  [Daal Makhani ]  \\\n",
       "PUNJABI TADKA  [Aloo Parantha]                              0.217085   \n",
       "PUNJABI TADKA  [Butter Chicken ]                            0.144155   \n",
       "PUNJABI TADKA  [Daal Makhani ]                              1.000000   \n",
       "PUNJABI TADKA  [Sarson Da Saag ]                            0.454428   \n",
       "LUCKNOW KA ZAAYKA  [Mughlai Chicken]                        0.128795   \n",
       "\n",
       "                                      PUNJABI TADKA  [Sarson Da Saag ]  \\\n",
       "PUNJABI TADKA  [Aloo Parantha]                                0.128142   \n",
       "PUNJABI TADKA  [Butter Chicken ]                              0.009728   \n",
       "PUNJABI TADKA  [Daal Makhani ]                                0.454428   \n",
       "PUNJABI TADKA  [Sarson Da Saag ]                              1.000000   \n",
       "LUCKNOW KA ZAAYKA  [Mughlai Chicken]                          0.044359   \n",
       "\n",
       "                                      LUCKNOW KA ZAAYKA  [Mughlai Chicken]  \\\n",
       "PUNJABI TADKA  [Aloo Parantha]                                   -0.097995   \n",
       "PUNJABI TADKA  [Butter Chicken ]                                  0.836279   \n",
       "PUNJABI TADKA  [Daal Makhani ]                                    0.128795   \n",
       "PUNJABI TADKA  [Sarson Da Saag ]                                  0.044359   \n",
       "LUCKNOW KA ZAAYKA  [Mughlai Chicken]                              1.000000   \n",
       "\n",
       "                                      LUCKNOW KA ZAAYKA  [Kabaab ]  \\\n",
       "PUNJABI TADKA  [Aloo Parantha]                            0.072706   \n",
       "PUNJABI TADKA  [Butter Chicken ]                          0.707427   \n",
       "PUNJABI TADKA  [Daal Makhani ]                            0.205962   \n",
       "PUNJABI TADKA  [Sarson Da Saag ]                          0.096779   \n",
       "LUCKNOW KA ZAAYKA  [Mughlai Chicken]                      0.763771   \n",
       "\n",
       "                                      LUCKNOW KA ZAAYKA  [Navratan Korma ]  \\\n",
       "PUNJABI TADKA  [Aloo Parantha]                                    0.098952   \n",
       "PUNJABI TADKA  [Butter Chicken ]                                  0.228237   \n",
       "PUNJABI TADKA  [Daal Makhani ]                                    0.231663   \n",
       "PUNJABI TADKA  [Sarson Da Saag ]                                  0.164254   \n",
       "LUCKNOW KA ZAAYKA  [Mughlai Chicken]                              0.281784   \n",
       "\n",
       "                                      LUCKNOW KA ZAAYKA  [Biryani ]  \\\n",
       "PUNJABI TADKA  [Aloo Parantha]                            -0.014323   \n",
       "PUNJABI TADKA  [Butter Chicken ]                           0.481935   \n",
       "PUNJABI TADKA  [Daal Makhani ]                             0.163365   \n",
       "PUNJABI TADKA  [Sarson Da Saag ]                           0.079762   \n",
       "LUCKNOW KA ZAAYKA  [Mughlai Chicken]                       0.482091   \n",
       "\n",
       "                                      LET US GO SOUTH [Idli ]  \\\n",
       "PUNJABI TADKA  [Aloo Parantha]                       0.060597   \n",
       "PUNJABI TADKA  [Butter Chicken ]                    -0.034574   \n",
       "PUNJABI TADKA  [Daal Makhani ]                       0.012291   \n",
       "PUNJABI TADKA  [Sarson Da Saag ]                     0.000989   \n",
       "LUCKNOW KA ZAAYKA  [Mughlai Chicken]                 0.020477   \n",
       "\n",
       "                                      LET US GO SOUTH [Bisi Bele Bhaat ]  ...  \\\n",
       "PUNJABI TADKA  [Aloo Parantha]                                  0.155281  ...   \n",
       "PUNJABI TADKA  [Butter Chicken ]                               -0.047858  ...   \n",
       "PUNJABI TADKA  [Daal Makhani ]                                  0.147782  ...   \n",
       "PUNJABI TADKA  [Sarson Da Saag ]                                0.220333  ...   \n",
       "LUCKNOW KA ZAAYKA  [Mughlai Chicken]                           -0.041125  ...   \n",
       "\n",
       "                                      HOW ABOUT SOME CHAAT ?  [Dahi Puri ]  \\\n",
       "PUNJABI TADKA  [Aloo Parantha]                                    0.103925   \n",
       "PUNJABI TADKA  [Butter Chicken ]                                 -0.022604   \n",
       "PUNJABI TADKA  [Daal Makhani ]                                    0.097889   \n",
       "PUNJABI TADKA  [Sarson Da Saag ]                                  0.088892   \n",
       "LUCKNOW KA ZAAYKA  [Mughlai Chicken]                             -0.023383   \n",
       "\n",
       "                                      HOW ABOUT SOME CHAAT ?  [Sev Puri ]  \\\n",
       "PUNJABI TADKA  [Aloo Parantha]                                   0.103015   \n",
       "PUNJABI TADKA  [Butter Chicken ]                                 0.007347   \n",
       "PUNJABI TADKA  [Daal Makhani ]                                   0.002589   \n",
       "PUNJABI TADKA  [Sarson Da Saag ]                                 0.023508   \n",
       "LUCKNOW KA ZAAYKA  [Mughlai Chicken]                             0.054729   \n",
       "\n",
       "                                      FAST AND FATTY  [Pizza]  \\\n",
       "PUNJABI TADKA  [Aloo Parantha]                       0.170777   \n",
       "PUNJABI TADKA  [Butter Chicken ]                     0.166843   \n",
       "PUNJABI TADKA  [Daal Makhani ]                       0.211083   \n",
       "PUNJABI TADKA  [Sarson Da Saag ]                     0.046167   \n",
       "LUCKNOW KA ZAAYKA  [Mughlai Chicken]                 0.146300   \n",
       "\n",
       "                                      FAST AND FATTY  [Burger]  \\\n",
       "PUNJABI TADKA  [Aloo Parantha]                        0.200097   \n",
       "PUNJABI TADKA  [Butter Chicken ]                      0.136907   \n",
       "PUNJABI TADKA  [Daal Makhani ]                        0.163163   \n",
       "PUNJABI TADKA  [Sarson Da Saag ]                      0.098763   \n",
       "LUCKNOW KA ZAAYKA  [Mughlai Chicken]                  0.121432   \n",
       "\n",
       "                                      FAST AND FATTY  [French Fries]  \\\n",
       "PUNJABI TADKA  [Aloo Parantha]                              0.258228   \n",
       "PUNJABI TADKA  [Butter Chicken ]                            0.112237   \n",
       "PUNJABI TADKA  [Daal Makhani ]                              0.082322   \n",
       "PUNJABI TADKA  [Sarson Da Saag ]                           -0.030255   \n",
       "LUCKNOW KA ZAAYKA  [Mughlai Chicken]                        0.103682   \n",
       "\n",
       "                                      FAST AND FATTY  [Pasta]  \\\n",
       "PUNJABI TADKA  [Aloo Parantha]                       0.081620   \n",
       "PUNJABI TADKA  [Butter Chicken ]                     0.124281   \n",
       "PUNJABI TADKA  [Daal Makhani ]                       0.217183   \n",
       "PUNJABI TADKA  [Sarson Da Saag ]                     0.119219   \n",
       "LUCKNOW KA ZAAYKA  [Mughlai Chicken]                 0.166252   \n",
       "\n",
       "                                      KUCH MEETHA HO JAYE  [Rasgulla ]  \\\n",
       "PUNJABI TADKA  [Aloo Parantha]                                0.206732   \n",
       "PUNJABI TADKA  [Butter Chicken ]                              0.160526   \n",
       "PUNJABI TADKA  [Daal Makhani ]                                0.142181   \n",
       "PUNJABI TADKA  [Sarson Da Saag ]                             -0.040984   \n",
       "LUCKNOW KA ZAAYKA  [Mughlai Chicken]                          0.173559   \n",
       "\n",
       "                                      KUCH MEETHA HO JAYE  [Jalebi]  \\\n",
       "PUNJABI TADKA  [Aloo Parantha]                             0.193481   \n",
       "PUNJABI TADKA  [Butter Chicken ]                           0.064378   \n",
       "PUNJABI TADKA  [Daal Makhani ]                             0.111926   \n",
       "PUNJABI TADKA  [Sarson Da Saag ]                           0.107885   \n",
       "LUCKNOW KA ZAAYKA  [Mughlai Chicken]                       0.108018   \n",
       "\n",
       "                                      KUCH MEETHA HO JAYE  [Barfi ]  \\\n",
       "PUNJABI TADKA  [Aloo Parantha]                             0.046872   \n",
       "PUNJABI TADKA  [Butter Chicken ]                           0.135169   \n",
       "PUNJABI TADKA  [Daal Makhani ]                             0.052326   \n",
       "PUNJABI TADKA  [Sarson Da Saag ]                           0.011526   \n",
       "LUCKNOW KA ZAAYKA  [Mughlai Chicken]                       0.136186   \n",
       "\n",
       "                                      KUCH MEETHA HO JAYE  [Chocolate cake ]  \n",
       "PUNJABI TADKA  [Aloo Parantha]                                      0.087582  \n",
       "PUNJABI TADKA  [Butter Chicken ]                                    0.079409  \n",
       "PUNJABI TADKA  [Daal Makhani ]                                      0.164860  \n",
       "PUNJABI TADKA  [Sarson Da Saag ]                                    0.066142  \n",
       "LUCKNOW KA ZAAYKA  [Mughlai Chicken]                                0.130694  \n",
       "\n",
       "[5 rows x 32 columns]"
      ]
     },
     "execution_count": 41,
     "metadata": {},
     "output_type": "execute_result"
    }
   ],
   "source": [
    "food_similarity.head()"
   ]
  },
  {
   "cell_type": "code",
   "execution_count": null,
   "metadata": {},
   "outputs": [],
   "source": [
    "data"
   ]
  },
  {
   "cell_type": "code",
   "execution_count": 42,
   "metadata": {},
   "outputs": [],
   "source": [
    "col = food_similarity.columns"
   ]
  },
  {
   "cell_type": "code",
   "execution_count": 30,
   "metadata": {},
   "outputs": [
    {
     "data": {
      "text/plain": [
       "PUNJABI TADKA  [Butter Chicken ]            1.000000\n",
       "LUCKNOW KA ZAAYKA  [Mughlai Chicken]        0.836279\n",
       "LET US TALK CHINESE [Chicken 65]            0.753527\n",
       "LET US GO SOUTH [Chettinad Chicken ]        0.732249\n",
       "LUCKNOW KA ZAAYKA  [Kabaab ]                0.707427\n",
       "LUCKNOW KA ZAAYKA  [Biryani ]               0.481935\n",
       "LUCKNOW KA ZAAYKA  [Navratan Korma ]        0.228237\n",
       "LET US TALK CHINESE [American Chop Suey]    0.180509\n",
       "FAST AND FATTY  [Pizza]                     0.166843\n",
       "KUCH MEETHA HO JAYE  [Rasgulla ]            0.160526\n",
       "PUNJABI TADKA  [Daal Makhani ]              0.144155\n",
       "FAST AND FATTY  [Burger]                    0.136907\n",
       "KUCH MEETHA HO JAYE  [Barfi ]               0.135169\n",
       "LET US TALK CHINESE [Fried Rice ]           0.125094\n",
       "FAST AND FATTY  [Pasta]                     0.124281\n",
       "FAST AND FATTY  [French Fries]              0.112237\n",
       "KUCH MEETHA HO JAYE  [Chocolate cake ]      0.079409\n",
       "KUCH MEETHA HO JAYE  [Jalebi]               0.064378\n",
       "LET US GO SOUTH [Rasam ]                    0.032324\n",
       "PUNJABI TADKA  [Sarson Da Saag ]            0.009728\n",
       "HOW ABOUT SOME CHAAT ?  [Sev Puri ]         0.007347\n",
       "VIBRANT GUJARAT [Dhokla ]                  -0.005900\n",
       "VIBRANT GUJARAT [Khandvi ]                 -0.020196\n",
       "HOW ABOUT SOME CHAAT ?  [Dahi Puri ]       -0.022604\n",
       "LET US TALK CHINESE [Munchurian]           -0.030513\n",
       "LET US GO SOUTH [Idli ]                    -0.034574\n",
       "HOW ABOUT SOME CHAAT ?  [Paani Puri ]      -0.038644\n",
       "LET US GO SOUTH [Bisi Bele Bhaat ]         -0.047858\n",
       "VIBRANT GUJARAT [Thepla]                   -0.047941\n",
       "PUNJABI TADKA  [Aloo Parantha]             -0.079217\n",
       "HOW ABOUT SOME CHAAT ?  [Paav Bhaaji ]     -0.095902\n",
       "VIBRANT GUJARAT [Kadhi and Rice ]          -0.107968\n",
       "Name: PUNJABI TADKA  [Butter Chicken ], dtype: float64"
      ]
     },
     "execution_count": 30,
     "metadata": {},
     "output_type": "execute_result"
    }
   ],
   "source": [
    "food_similarity.loc['PUNJABI TADKA  [Butter Chicken ]'].sort_values(ascending=False)"
   ]
  },
  {
   "cell_type": "code",
   "execution_count": 43,
   "metadata": {},
   "outputs": [],
   "source": [
    "def get_similar_food(food_name,food_ratings):\n",
    "    \n",
    "    similar_score = food_similarity[food_name]*(food_ratings-2)\n",
    "    similar_score = similar_score.sort_values(ascending=False)\n",
    "\n",
    "    return similar_score"
   ]
  },
  {
   "cell_type": "code",
   "execution_count": 46,
   "metadata": {},
   "outputs": [
    {
     "data": {
      "text/html": [
       "<div>\n",
       "<style scoped>\n",
       "    .dataframe tbody tr th:only-of-type {\n",
       "        vertical-align: middle;\n",
       "    }\n",
       "\n",
       "    .dataframe tbody tr th {\n",
       "        vertical-align: top;\n",
       "    }\n",
       "\n",
       "    .dataframe thead th {\n",
       "        text-align: right;\n",
       "    }\n",
       "</style>\n",
       "<table border=\"1\" class=\"dataframe\">\n",
       "  <thead>\n",
       "    <tr style=\"text-align: right;\">\n",
       "      <th></th>\n",
       "      <th>FAST AND FATTY  [Burger]</th>\n",
       "      <th>FAST AND FATTY  [French Fries]</th>\n",
       "      <th>FAST AND FATTY  [Pasta]</th>\n",
       "      <th>FAST AND FATTY  [Pizza]</th>\n",
       "      <th>HOW ABOUT SOME CHAAT ?  [Dahi Puri ]</th>\n",
       "      <th>HOW ABOUT SOME CHAAT ?  [Paani Puri ]</th>\n",
       "      <th>HOW ABOUT SOME CHAAT ?  [Paav Bhaaji ]</th>\n",
       "      <th>HOW ABOUT SOME CHAAT ?  [Sev Puri ]</th>\n",
       "      <th>KUCH MEETHA HO JAYE  [Barfi ]</th>\n",
       "      <th>KUCH MEETHA HO JAYE  [Chocolate cake ]</th>\n",
       "      <th>...</th>\n",
       "      <th>LUCKNOW KA ZAAYKA  [Mughlai Chicken]</th>\n",
       "      <th>LUCKNOW KA ZAAYKA  [Navratan Korma ]</th>\n",
       "      <th>PUNJABI TADKA  [Aloo Parantha]</th>\n",
       "      <th>PUNJABI TADKA  [Butter Chicken ]</th>\n",
       "      <th>PUNJABI TADKA  [Daal Makhani ]</th>\n",
       "      <th>PUNJABI TADKA  [Sarson Da Saag ]</th>\n",
       "      <th>VIBRANT GUJARAT [Dhokla ]</th>\n",
       "      <th>VIBRANT GUJARAT [Kadhi and Rice ]</th>\n",
       "      <th>VIBRANT GUJARAT [Khandvi ]</th>\n",
       "      <th>VIBRANT GUJARAT [Thepla]</th>\n",
       "    </tr>\n",
       "  </thead>\n",
       "  <tbody>\n",
       "    <tr>\n",
       "      <td>0</td>\n",
       "      <td>0.273813</td>\n",
       "      <td>0.224475</td>\n",
       "      <td>0.248562</td>\n",
       "      <td>0.333686</td>\n",
       "      <td>-0.045207</td>\n",
       "      <td>-0.077287</td>\n",
       "      <td>-0.191805</td>\n",
       "      <td>0.014694</td>\n",
       "      <td>0.270338</td>\n",
       "      <td>0.158818</td>\n",
       "      <td>...</td>\n",
       "      <td>1.672557</td>\n",
       "      <td>0.456473</td>\n",
       "      <td>-0.158434</td>\n",
       "      <td>2.000000</td>\n",
       "      <td>0.288310</td>\n",
       "      <td>0.019456</td>\n",
       "      <td>-0.011800</td>\n",
       "      <td>-0.215936</td>\n",
       "      <td>-0.040392</td>\n",
       "      <td>-0.095882</td>\n",
       "    </tr>\n",
       "    <tr>\n",
       "      <td>1</td>\n",
       "      <td>1.000000</td>\n",
       "      <td>0.661730</td>\n",
       "      <td>0.523115</td>\n",
       "      <td>0.689053</td>\n",
       "      <td>0.129147</td>\n",
       "      <td>0.156964</td>\n",
       "      <td>0.146427</td>\n",
       "      <td>0.073904</td>\n",
       "      <td>0.185766</td>\n",
       "      <td>0.500916</td>\n",
       "      <td>...</td>\n",
       "      <td>0.121432</td>\n",
       "      <td>0.117908</td>\n",
       "      <td>0.200097</td>\n",
       "      <td>0.136907</td>\n",
       "      <td>0.163163</td>\n",
       "      <td>0.098763</td>\n",
       "      <td>0.115965</td>\n",
       "      <td>0.016826</td>\n",
       "      <td>0.075183</td>\n",
       "      <td>0.037337</td>\n",
       "    </tr>\n",
       "    <tr>\n",
       "      <td>2</td>\n",
       "      <td>0.000000</td>\n",
       "      <td>0.000000</td>\n",
       "      <td>0.000000</td>\n",
       "      <td>0.000000</td>\n",
       "      <td>0.000000</td>\n",
       "      <td>0.000000</td>\n",
       "      <td>0.000000</td>\n",
       "      <td>0.000000</td>\n",
       "      <td>0.000000</td>\n",
       "      <td>0.000000</td>\n",
       "      <td>...</td>\n",
       "      <td>0.000000</td>\n",
       "      <td>0.000000</td>\n",
       "      <td>0.000000</td>\n",
       "      <td>0.000000</td>\n",
       "      <td>0.000000</td>\n",
       "      <td>0.000000</td>\n",
       "      <td>0.000000</td>\n",
       "      <td>0.000000</td>\n",
       "      <td>-0.000000</td>\n",
       "      <td>0.000000</td>\n",
       "    </tr>\n",
       "    <tr>\n",
       "      <td>3</td>\n",
       "      <td>0.263551</td>\n",
       "      <td>0.330621</td>\n",
       "      <td>0.355087</td>\n",
       "      <td>0.285002</td>\n",
       "      <td>0.173033</td>\n",
       "      <td>0.240609</td>\n",
       "      <td>0.299899</td>\n",
       "      <td>0.240695</td>\n",
       "      <td>0.180470</td>\n",
       "      <td>0.366099</td>\n",
       "      <td>...</td>\n",
       "      <td>0.168013</td>\n",
       "      <td>0.108729</td>\n",
       "      <td>0.077302</td>\n",
       "      <td>0.125094</td>\n",
       "      <td>0.169917</td>\n",
       "      <td>0.057399</td>\n",
       "      <td>0.202921</td>\n",
       "      <td>0.200044</td>\n",
       "      <td>0.211535</td>\n",
       "      <td>0.279840</td>\n",
       "    </tr>\n",
       "  </tbody>\n",
       "</table>\n",
       "<p>4 rows × 32 columns</p>\n",
       "</div>"
      ],
      "text/plain": [
       "   FAST AND FATTY  [Burger]  FAST AND FATTY  [French Fries]  \\\n",
       "0                  0.273813                        0.224475   \n",
       "1                  1.000000                        0.661730   \n",
       "2                  0.000000                        0.000000   \n",
       "3                  0.263551                        0.330621   \n",
       "\n",
       "   FAST AND FATTY  [Pasta]  FAST AND FATTY  [Pizza]  \\\n",
       "0                 0.248562                 0.333686   \n",
       "1                 0.523115                 0.689053   \n",
       "2                 0.000000                 0.000000   \n",
       "3                 0.355087                 0.285002   \n",
       "\n",
       "   HOW ABOUT SOME CHAAT ?  [Dahi Puri ]  \\\n",
       "0                             -0.045207   \n",
       "1                              0.129147   \n",
       "2                              0.000000   \n",
       "3                              0.173033   \n",
       "\n",
       "   HOW ABOUT SOME CHAAT ?  [Paani Puri ]  \\\n",
       "0                              -0.077287   \n",
       "1                               0.156964   \n",
       "2                               0.000000   \n",
       "3                               0.240609   \n",
       "\n",
       "   HOW ABOUT SOME CHAAT ?  [Paav Bhaaji ]  \\\n",
       "0                               -0.191805   \n",
       "1                                0.146427   \n",
       "2                                0.000000   \n",
       "3                                0.299899   \n",
       "\n",
       "   HOW ABOUT SOME CHAAT ?  [Sev Puri ]  KUCH MEETHA HO JAYE  [Barfi ]  \\\n",
       "0                             0.014694                       0.270338   \n",
       "1                             0.073904                       0.185766   \n",
       "2                             0.000000                       0.000000   \n",
       "3                             0.240695                       0.180470   \n",
       "\n",
       "   KUCH MEETHA HO JAYE  [Chocolate cake ]  ...  \\\n",
       "0                                0.158818  ...   \n",
       "1                                0.500916  ...   \n",
       "2                                0.000000  ...   \n",
       "3                                0.366099  ...   \n",
       "\n",
       "   LUCKNOW KA ZAAYKA  [Mughlai Chicken]  LUCKNOW KA ZAAYKA  [Navratan Korma ]  \\\n",
       "0                              1.672557                              0.456473   \n",
       "1                              0.121432                              0.117908   \n",
       "2                              0.000000                              0.000000   \n",
       "3                              0.168013                              0.108729   \n",
       "\n",
       "   PUNJABI TADKA  [Aloo Parantha]  PUNJABI TADKA  [Butter Chicken ]  \\\n",
       "0                       -0.158434                          2.000000   \n",
       "1                        0.200097                          0.136907   \n",
       "2                        0.000000                          0.000000   \n",
       "3                        0.077302                          0.125094   \n",
       "\n",
       "   PUNJABI TADKA  [Daal Makhani ]  PUNJABI TADKA  [Sarson Da Saag ]  \\\n",
       "0                        0.288310                          0.019456   \n",
       "1                        0.163163                          0.098763   \n",
       "2                        0.000000                          0.000000   \n",
       "3                        0.169917                          0.057399   \n",
       "\n",
       "   VIBRANT GUJARAT [Dhokla ]  VIBRANT GUJARAT [Kadhi and Rice ]  \\\n",
       "0                  -0.011800                          -0.215936   \n",
       "1                   0.115965                           0.016826   \n",
       "2                   0.000000                           0.000000   \n",
       "3                   0.202921                           0.200044   \n",
       "\n",
       "   VIBRANT GUJARAT [Khandvi ]  VIBRANT GUJARAT [Thepla]  \n",
       "0                   -0.040392                 -0.095882  \n",
       "1                    0.075183                  0.037337  \n",
       "2                   -0.000000                  0.000000  \n",
       "3                    0.211535                  0.279840  \n",
       "\n",
       "[4 rows x 32 columns]"
      ]
     },
     "execution_count": 46,
     "metadata": {},
     "output_type": "execute_result"
    }
   ],
   "source": [
    "similar_food"
   ]
  },
  {
   "cell_type": "code",
   "execution_count": 47,
   "metadata": {},
   "outputs": [],
   "source": [
    "food_lover = [('PUNJABI TADKA  [Butter Chicken ]',4),('FAST AND FATTY  [Burger]',3),('KUCH MEETHA HO JAYE  [Jalebi]',2),('LET US TALK CHINESE [Fried Rice ]',3)]\n",
    "\n",
    "\n",
    "similar_food = pd.DataFrame()\n",
    "\n",
    "for food,rating in food_lover:\n",
    "    \n",
    "    similar_food = similar_food.append(get_similar_food(food,rating),ignore_index=True)\n",
    "   \n",
    "\n"
   ]
  },
  {
   "cell_type": "code",
   "execution_count": 49,
   "metadata": {},
   "outputs": [
    {
     "name": "stdout",
     "output_type": "stream",
     "text": [
      "PUNJABI TADKA  [Butter Chicken ]            2.262000\n",
      "LUCKNOW KA ZAAYKA  [Mughlai Chicken]        1.962003\n",
      "LET US TALK CHINESE [Chicken 65]            1.828474\n",
      "LUCKNOW KA ZAAYKA  [Kabaab ]                1.796646\n",
      "LET US GO SOUTH [Chettinad Chicken ]        1.592787\n",
      "FAST AND FATTY  [Burger]                    1.537364\n",
      "LET US TALK CHINESE [Fried Rice ]           1.513738\n",
      "FAST AND FATTY  [Pizza]                     1.307741\n",
      "LUCKNOW KA ZAAYKA  [Biryani ]               1.230978\n",
      "FAST AND FATTY  [French Fries]              1.216825\n",
      "FAST AND FATTY  [Pasta]                     1.126763\n",
      "KUCH MEETHA HO JAYE  [Chocolate cake ]      1.025833\n",
      "LET US TALK CHINESE [American Chop Suey]    0.979189\n",
      "KUCH MEETHA HO JAYE  [Rasgulla ]            0.721518\n",
      "LUCKNOW KA ZAAYKA  [Navratan Korma ]        0.683110\n",
      "LET US TALK CHINESE [Munchurian]            0.648353\n",
      "KUCH MEETHA HO JAYE  [Barfi ]               0.636574\n",
      "PUNJABI TADKA  [Daal Makhani ]              0.621390\n",
      "KUCH MEETHA HO JAYE  [Jalebi]               0.527687\n",
      "HOW ABOUT SOME CHAAT ?  [Sev Puri ]         0.329293\n",
      "dtype: float64\n"
     ]
    }
   ],
   "source": [
    "similar_food_list = similar_food.sum().sort_values(ascending=False)[:20]\n",
    "score_dict = { for i}"
   ]
  },
  {
   "cell_type": "code",
   "execution_count": 57,
   "metadata": {},
   "outputs": [],
   "source": [
    "q=similar_food.columns"
   ]
  },
  {
   "cell_type": "code",
   "execution_count": 59,
   "metadata": {},
   "outputs": [
    {
     "name": "stdout",
     "output_type": "stream",
     "text": [
      "FAST AND FATTY  [Burger]\n",
      "FAST AND FATTY  [French Fries]\n",
      "FAST AND FATTY  [Pasta]\n",
      "FAST AND FATTY  [Pizza]\n",
      "HOW ABOUT SOME CHAAT ?  [Dahi Puri ]\n",
      "HOW ABOUT SOME CHAAT ?  [Paani Puri ]\n",
      "HOW ABOUT SOME CHAAT ?  [Paav Bhaaji ]\n",
      "HOW ABOUT SOME CHAAT ?  [Sev Puri ]\n",
      "KUCH MEETHA HO JAYE  [Barfi ]\n",
      "KUCH MEETHA HO JAYE  [Chocolate cake ]\n",
      "KUCH MEETHA HO JAYE  [Jalebi]\n",
      "KUCH MEETHA HO JAYE  [Rasgulla ]\n",
      "LET US GO SOUTH [Bisi Bele Bhaat ]\n",
      "LET US GO SOUTH [Chettinad Chicken ]\n",
      "LET US GO SOUTH [Idli ]\n",
      "LET US GO SOUTH [Rasam ]\n",
      "LET US TALK CHINESE [American Chop Suey]\n",
      "LET US TALK CHINESE [Chicken 65]\n",
      "LET US TALK CHINESE [Fried Rice ]\n",
      "LET US TALK CHINESE [Munchurian]\n",
      "LUCKNOW KA ZAAYKA  [Biryani ]\n",
      "LUCKNOW KA ZAAYKA  [Kabaab ]\n",
      "LUCKNOW KA ZAAYKA  [Mughlai Chicken]\n",
      "LUCKNOW KA ZAAYKA  [Navratan Korma ]\n",
      "PUNJABI TADKA  [Aloo Parantha]\n",
      "PUNJABI TADKA  [Butter Chicken ]\n",
      "PUNJABI TADKA  [Daal Makhani ]\n",
      "PUNJABI TADKA  [Sarson Da Saag ]\n",
      "VIBRANT GUJARAT [Dhokla ]\n",
      "VIBRANT GUJARAT [Kadhi and Rice ]\n",
      "VIBRANT GUJARAT [Khandvi ]\n",
      "VIBRANT GUJARAT [Thepla]\n"
     ]
    }
   ],
   "source": [
    "recommend_food_dict ={}\n",
    "for i, value in enumerate(similar_food.columns):\n",
    "    print(value)\n",
    "    dish_score= similar_food[value].sum()\n",
    "    dish_name=q[i][q[i].find(\"[\")+1:q[i].find(\"]\")]\n",
    "    \n",
    "    recommend_food_dict[dish_name] = dish_score"
   ]
  },
  {
   "cell_type": "code",
   "execution_count": 63,
   "metadata": {},
   "outputs": [],
   "source": [
    "d = {k: v for k, v in sorted(recommend_food_dict.items(), key=lambda item: item[1], reverse=True)}"
   ]
  },
  {
   "cell_type": "code",
   "execution_count": 66,
   "metadata": {},
   "outputs": [
    {
     "data": {
      "text/plain": [
       "{'Butter Chicken ': 2.262000417422307,\n",
       " 'Mughlai Chicken': 1.9620026115009375,\n",
       " 'Chicken 65': 1.8284740166772855,\n",
       " 'Kabaab ': 1.7966461410653836,\n",
       " 'Chettinad Chicken ': 1.5927874626548768,\n",
       " 'Burger': 1.537364265177526,\n",
       " 'Fried Rice ': 1.5137384084401468,\n",
       " 'Pizza': 1.3077409394006472,\n",
       " 'Biryani ': 1.23097759847592,\n",
       " 'French Fries': 1.2168249460211809,\n",
       " 'Pasta': 1.12676306911609,\n",
       " 'Chocolate cake ': 1.025833194178749,\n",
       " 'American Chop Suey': 0.9791891159653857,\n",
       " 'Rasgulla ': 0.7215184223139446,\n",
       " 'Navratan Korma ': 0.6831097441753723,\n",
       " 'Munchurian': 0.6483526243530131,\n",
       " 'Barfi ': 0.6365740449092183,\n",
       " 'Daal Makhani ': 0.6213898975084317,\n",
       " 'Jalebi': 0.5276872392427621,\n",
       " 'Sev Puri ': 0.3292934488537813,\n",
       " 'Paani Puri ': 0.32028560961222713,\n",
       " 'Dhokla ': 0.3070854614025888,\n",
       " 'Dahi Puri ': 0.25697349248026835,\n",
       " 'Paav Bhaaji ': 0.25452167610346743,\n",
       " 'Khandvi ': 0.2463264312666528,\n",
       " 'Idli ': 0.2284405771079901,\n",
       " 'Thepla': 0.22129457280408776,\n",
       " 'Sarson Da Saag ': 0.17561823752317754,\n",
       " 'Aloo Parantha': 0.11896471639877186,\n",
       " 'Bisi Bele Bhaat ': 0.11191663383841524,\n",
       " 'Rasam ': 0.09593321974345974,\n",
       " 'Kadhi and Rice ': 0.0009341084734660887}"
      ]
     },
     "execution_count": 66,
     "metadata": {},
     "output_type": "execute_result"
    }
   ],
   "source": [
    "d"
   ]
  },
  {
   "cell_type": "code",
   "execution_count": 133,
   "metadata": {},
   "outputs": [],
   "source": [
    "d1 = [('PUNJABI TADKA  [Butter Chicken ]','KUCH MEETHA HO JAYE  [Jalebi]','LET US TALK CHINESE [Fried Rice ]','LET US TALK CHINESE [Munchurian]',\n",
    "      'KUCH MEETHA HO JAYE  [Barfi ]','VIBRANT GUJARAT [Thepla]','HOW ABOUT SOME CHAAT ?  [Paav Bhaaji ]',\n",
    "      'KUCH MEETHA HO JAYE  [Rasgulla ]']"
   ]
  },
  {
   "cell_type": "code",
   "execution_count": null,
   "metadata": {},
   "outputs": [],
   "source": [
    "data[]"
   ]
  },
  {
   "cell_type": "code",
   "execution_count": 145,
   "metadata": {},
   "outputs": [
    {
     "data": {
      "text/html": [
       "<div>\n",
       "<style scoped>\n",
       "    .dataframe tbody tr th:only-of-type {\n",
       "        vertical-align: middle;\n",
       "    }\n",
       "\n",
       "    .dataframe tbody tr th {\n",
       "        vertical-align: top;\n",
       "    }\n",
       "\n",
       "    .dataframe thead th {\n",
       "        text-align: right;\n",
       "    }\n",
       "</style>\n",
       "<table border=\"1\" class=\"dataframe\">\n",
       "  <thead>\n",
       "    <tr style=\"text-align: right;\">\n",
       "      <th></th>\n",
       "      <th>PUNJABI TADKA  [Butter Chicken ]</th>\n",
       "      <th>FAST AND FATTY  [Burger]</th>\n",
       "      <th>KUCH MEETHA HO JAYE  [Jalebi]</th>\n",
       "      <th>LET US TALK CHINESE [Fried Rice ]</th>\n",
       "      <th>LET US TALK CHINESE [Munchurian]</th>\n",
       "      <th>KUCH MEETHA HO JAYE  [Barfi ]</th>\n",
       "      <th>VIBRANT GUJARAT [Thepla]</th>\n",
       "      <th>HOW ABOUT SOME CHAAT ?  [Paav Bhaaji ]</th>\n",
       "      <th>KUCH MEETHA HO JAYE  [Rasgulla ]</th>\n",
       "    </tr>\n",
       "  </thead>\n",
       "  <tbody>\n",
       "    <tr>\n",
       "      <td>count</td>\n",
       "      <td>217.000000</td>\n",
       "      <td>217.000000</td>\n",
       "      <td>217.000000</td>\n",
       "      <td>217.000000</td>\n",
       "      <td>217.000000</td>\n",
       "      <td>217.000000</td>\n",
       "      <td>217.000000</td>\n",
       "      <td>217.000000</td>\n",
       "      <td>217.000000</td>\n",
       "    </tr>\n",
       "    <tr>\n",
       "      <td>mean</td>\n",
       "      <td>2.737327</td>\n",
       "      <td>3.018433</td>\n",
       "      <td>3.147465</td>\n",
       "      <td>3.078341</td>\n",
       "      <td>3.036866</td>\n",
       "      <td>2.870968</td>\n",
       "      <td>2.898618</td>\n",
       "      <td>3.451613</td>\n",
       "      <td>3.322581</td>\n",
       "    </tr>\n",
       "    <tr>\n",
       "      <td>std</td>\n",
       "      <td>1.283852</td>\n",
       "      <td>0.985840</td>\n",
       "      <td>0.905950</td>\n",
       "      <td>0.843461</td>\n",
       "      <td>0.809964</td>\n",
       "      <td>0.972747</td>\n",
       "      <td>0.849209</td>\n",
       "      <td>0.744554</td>\n",
       "      <td>0.926511</td>\n",
       "    </tr>\n",
       "    <tr>\n",
       "      <td>min</td>\n",
       "      <td>1.000000</td>\n",
       "      <td>1.000000</td>\n",
       "      <td>1.000000</td>\n",
       "      <td>1.000000</td>\n",
       "      <td>1.000000</td>\n",
       "      <td>1.000000</td>\n",
       "      <td>1.000000</td>\n",
       "      <td>1.000000</td>\n",
       "      <td>1.000000</td>\n",
       "    </tr>\n",
       "    <tr>\n",
       "      <td>25%</td>\n",
       "      <td>1.000000</td>\n",
       "      <td>2.000000</td>\n",
       "      <td>2.000000</td>\n",
       "      <td>2.000000</td>\n",
       "      <td>2.000000</td>\n",
       "      <td>2.000000</td>\n",
       "      <td>2.000000</td>\n",
       "      <td>3.000000</td>\n",
       "      <td>3.000000</td>\n",
       "    </tr>\n",
       "    <tr>\n",
       "      <td>50%</td>\n",
       "      <td>3.000000</td>\n",
       "      <td>3.000000</td>\n",
       "      <td>3.000000</td>\n",
       "      <td>3.000000</td>\n",
       "      <td>3.000000</td>\n",
       "      <td>3.000000</td>\n",
       "      <td>3.000000</td>\n",
       "      <td>4.000000</td>\n",
       "      <td>4.000000</td>\n",
       "    </tr>\n",
       "    <tr>\n",
       "      <td>75%</td>\n",
       "      <td>4.000000</td>\n",
       "      <td>4.000000</td>\n",
       "      <td>4.000000</td>\n",
       "      <td>4.000000</td>\n",
       "      <td>4.000000</td>\n",
       "      <td>4.000000</td>\n",
       "      <td>4.000000</td>\n",
       "      <td>4.000000</td>\n",
       "      <td>4.000000</td>\n",
       "    </tr>\n",
       "    <tr>\n",
       "      <td>max</td>\n",
       "      <td>4.000000</td>\n",
       "      <td>4.000000</td>\n",
       "      <td>4.000000</td>\n",
       "      <td>4.000000</td>\n",
       "      <td>4.000000</td>\n",
       "      <td>4.000000</td>\n",
       "      <td>4.000000</td>\n",
       "      <td>4.000000</td>\n",
       "      <td>4.000000</td>\n",
       "    </tr>\n",
       "  </tbody>\n",
       "</table>\n",
       "</div>"
      ],
      "text/plain": [
       "       PUNJABI TADKA  [Butter Chicken ]  FAST AND FATTY  [Burger]  \\\n",
       "count                        217.000000                217.000000   \n",
       "mean                           2.737327                  3.018433   \n",
       "std                            1.283852                  0.985840   \n",
       "min                            1.000000                  1.000000   \n",
       "25%                            1.000000                  2.000000   \n",
       "50%                            3.000000                  3.000000   \n",
       "75%                            4.000000                  4.000000   \n",
       "max                            4.000000                  4.000000   \n",
       "\n",
       "       KUCH MEETHA HO JAYE  [Jalebi]  LET US TALK CHINESE [Fried Rice ]  \\\n",
       "count                     217.000000                         217.000000   \n",
       "mean                        3.147465                           3.078341   \n",
       "std                         0.905950                           0.843461   \n",
       "min                         1.000000                           1.000000   \n",
       "25%                         2.000000                           2.000000   \n",
       "50%                         3.000000                           3.000000   \n",
       "75%                         4.000000                           4.000000   \n",
       "max                         4.000000                           4.000000   \n",
       "\n",
       "       LET US TALK CHINESE [Munchurian]  KUCH MEETHA HO JAYE  [Barfi ]  \\\n",
       "count                        217.000000                     217.000000   \n",
       "mean                           3.036866                       2.870968   \n",
       "std                            0.809964                       0.972747   \n",
       "min                            1.000000                       1.000000   \n",
       "25%                            2.000000                       2.000000   \n",
       "50%                            3.000000                       3.000000   \n",
       "75%                            4.000000                       4.000000   \n",
       "max                            4.000000                       4.000000   \n",
       "\n",
       "       VIBRANT GUJARAT [Thepla]  HOW ABOUT SOME CHAAT ?  [Paav Bhaaji ]  \\\n",
       "count                217.000000                              217.000000   \n",
       "mean                   2.898618                                3.451613   \n",
       "std                    0.849209                                0.744554   \n",
       "min                    1.000000                                1.000000   \n",
       "25%                    2.000000                                3.000000   \n",
       "50%                    3.000000                                4.000000   \n",
       "75%                    4.000000                                4.000000   \n",
       "max                    4.000000                                4.000000   \n",
       "\n",
       "       KUCH MEETHA HO JAYE  [Rasgulla ]  \n",
       "count                        217.000000  \n",
       "mean                           3.322581  \n",
       "std                            0.926511  \n",
       "min                            1.000000  \n",
       "25%                            3.000000  \n",
       "50%                            4.000000  \n",
       "75%                            4.000000  \n",
       "max                            4.000000  "
      ]
     },
     "execution_count": 145,
     "metadata": {},
     "output_type": "execute_result"
    }
   ],
   "source": [
    "data[['PUNJABI TADKA  [Butter Chicken ]','FAST AND FATTY  [Burger]','KUCH MEETHA HO JAYE  [Jalebi]','LET US TALK CHINESE [Fried Rice ]','LET US TALK CHINESE [Munchurian]',\n",
    "      'KUCH MEETHA HO JAYE  [Barfi ]','VIBRANT GUJARAT [Thepla]','HOW ABOUT SOME CHAAT ?  [Paav Bhaaji ]',\n",
    "      'KUCH MEETHA HO JAYE  [Rasgulla ]']].describe()"
   ]
  },
  {
   "cell_type": "code",
   "execution_count": 156,
   "metadata": {},
   "outputs": [
    {
     "data": {
      "text/html": [
       "<div>\n",
       "<style scoped>\n",
       "    .dataframe tbody tr th:only-of-type {\n",
       "        vertical-align: middle;\n",
       "    }\n",
       "\n",
       "    .dataframe tbody tr th {\n",
       "        vertical-align: top;\n",
       "    }\n",
       "\n",
       "    .dataframe thead th {\n",
       "        text-align: right;\n",
       "    }\n",
       "</style>\n",
       "<table border=\"1\" class=\"dataframe\">\n",
       "  <thead>\n",
       "    <tr style=\"text-align: right;\">\n",
       "      <th></th>\n",
       "      <th>PUNJABI TADKA  [Butter Chicken ]</th>\n",
       "      <th>FAST AND FATTY  [Burger]</th>\n",
       "      <th>KUCH MEETHA HO JAYE  [Jalebi]</th>\n",
       "      <th>LET US TALK CHINESE [Fried Rice ]</th>\n",
       "      <th>LET US TALK CHINESE [Munchurian]</th>\n",
       "      <th>KUCH MEETHA HO JAYE  [Barfi ]</th>\n",
       "      <th>VIBRANT GUJARAT [Thepla]</th>\n",
       "      <th>HOW ABOUT SOME CHAAT ?  [Paav Bhaaji ]</th>\n",
       "      <th>KUCH MEETHA HO JAYE  [Rasgulla ]</th>\n",
       "    </tr>\n",
       "    <tr>\n",
       "      <th>user_name</th>\n",
       "      <th></th>\n",
       "      <th></th>\n",
       "      <th></th>\n",
       "      <th></th>\n",
       "      <th></th>\n",
       "      <th></th>\n",
       "      <th></th>\n",
       "      <th></th>\n",
       "      <th></th>\n",
       "    </tr>\n",
       "  </thead>\n",
       "  <tbody>\n",
       "    <tr>\n",
       "      <td>User__10</td>\n",
       "      <td>4</td>\n",
       "      <td>3</td>\n",
       "      <td>2</td>\n",
       "      <td>3</td>\n",
       "      <td>3</td>\n",
       "      <td>2</td>\n",
       "      <td>2</td>\n",
       "      <td>4</td>\n",
       "      <td>4</td>\n",
       "    </tr>\n",
       "    <tr>\n",
       "      <td>User__135</td>\n",
       "      <td>4</td>\n",
       "      <td>3</td>\n",
       "      <td>2</td>\n",
       "      <td>3</td>\n",
       "      <td>2</td>\n",
       "      <td>4</td>\n",
       "      <td>3</td>\n",
       "      <td>3</td>\n",
       "      <td>4</td>\n",
       "    </tr>\n",
       "    <tr>\n",
       "      <td>User__161</td>\n",
       "      <td>4</td>\n",
       "      <td>3</td>\n",
       "      <td>2</td>\n",
       "      <td>3</td>\n",
       "      <td>3</td>\n",
       "      <td>2</td>\n",
       "      <td>4</td>\n",
       "      <td>3</td>\n",
       "      <td>4</td>\n",
       "    </tr>\n",
       "    <tr>\n",
       "      <td>User__206</td>\n",
       "      <td>4</td>\n",
       "      <td>3</td>\n",
       "      <td>2</td>\n",
       "      <td>3</td>\n",
       "      <td>3</td>\n",
       "      <td>2</td>\n",
       "      <td>2</td>\n",
       "      <td>4</td>\n",
       "      <td>1</td>\n",
       "    </tr>\n",
       "  </tbody>\n",
       "</table>\n",
       "</div>"
      ],
      "text/plain": [
       "           PUNJABI TADKA  [Butter Chicken ]  FAST AND FATTY  [Burger]  \\\n",
       "user_name                                                               \n",
       "User__10                                  4                         3   \n",
       "User__135                                 4                         3   \n",
       "User__161                                 4                         3   \n",
       "User__206                                 4                         3   \n",
       "\n",
       "           KUCH MEETHA HO JAYE  [Jalebi]  LET US TALK CHINESE [Fried Rice ]  \\\n",
       "user_name                                                                     \n",
       "User__10                               2                                  3   \n",
       "User__135                              2                                  3   \n",
       "User__161                              2                                  3   \n",
       "User__206                              2                                  3   \n",
       "\n",
       "           LET US TALK CHINESE [Munchurian]  KUCH MEETHA HO JAYE  [Barfi ]  \\\n",
       "user_name                                                                    \n",
       "User__10                                  3                              2   \n",
       "User__135                                 2                              4   \n",
       "User__161                                 3                              2   \n",
       "User__206                                 3                              2   \n",
       "\n",
       "           VIBRANT GUJARAT [Thepla]  HOW ABOUT SOME CHAAT ?  [Paav Bhaaji ]  \\\n",
       "user_name                                                                     \n",
       "User__10                          2                                       4   \n",
       "User__135                         3                                       3   \n",
       "User__161                         4                                       3   \n",
       "User__206                         2                                       4   \n",
       "\n",
       "           KUCH MEETHA HO JAYE  [Rasgulla ]  \n",
       "user_name                                    \n",
       "User__10                                  4  \n",
       "User__135                                 4  \n",
       "User__161                                 4  \n",
       "User__206                                 1  "
      ]
     },
     "execution_count": 156,
     "metadata": {},
     "output_type": "execute_result"
    }
   ],
   "source": [
    "\n",
    "data[(data['PUNJABI TADKA  [Butter Chicken ]']==4) & (data['FAST AND FATTY  [Burger]']==3) & (data['KUCH MEETHA HO JAYE  [Jalebi]']==2) & (data['LET US TALK CHINESE [Fried Rice ]']==3)][['PUNJABI TADKA  [Butter Chicken ]','FAST AND FATTY  [Burger]','KUCH MEETHA HO JAYE  [Jalebi]','LET US TALK CHINESE [Fried Rice ]','LET US TALK CHINESE [Munchurian]',\n",
    "      'KUCH MEETHA HO JAYE  [Barfi ]','VIBRANT GUJARAT [Thepla]','HOW ABOUT SOME CHAAT ?  [Paav Bhaaji ]',\n",
    "      'KUCH MEETHA HO JAYE  [Rasgulla ]']]\n"
   ]
  },
  {
   "cell_type": "code",
   "execution_count": 158,
   "metadata": {},
   "outputs": [
    {
     "data": {
      "text/html": [
       "<div>\n",
       "<style scoped>\n",
       "    .dataframe tbody tr th:only-of-type {\n",
       "        vertical-align: middle;\n",
       "    }\n",
       "\n",
       "    .dataframe tbody tr th {\n",
       "        vertical-align: top;\n",
       "    }\n",
       "\n",
       "    .dataframe thead th {\n",
       "        text-align: right;\n",
       "    }\n",
       "</style>\n",
       "<table border=\"1\" class=\"dataframe\">\n",
       "  <thead>\n",
       "    <tr style=\"text-align: right;\">\n",
       "      <th></th>\n",
       "      <th>PUNJABI TADKA  [Aloo Parantha]</th>\n",
       "      <th>PUNJABI TADKA  [Butter Chicken ]</th>\n",
       "      <th>PUNJABI TADKA  [Daal Makhani ]</th>\n",
       "      <th>PUNJABI TADKA  [Sarson Da Saag ]</th>\n",
       "      <th>LUCKNOW KA ZAAYKA  [Mughlai Chicken]</th>\n",
       "      <th>LUCKNOW KA ZAAYKA  [Kabaab ]</th>\n",
       "      <th>LUCKNOW KA ZAAYKA  [Navratan Korma ]</th>\n",
       "      <th>LUCKNOW KA ZAAYKA  [Biryani ]</th>\n",
       "      <th>LET US GO SOUTH [Idli ]</th>\n",
       "      <th>LET US GO SOUTH [Bisi Bele Bhaat ]</th>\n",
       "      <th>...</th>\n",
       "      <th>HOW ABOUT SOME CHAAT ?  [Dahi Puri ]</th>\n",
       "      <th>HOW ABOUT SOME CHAAT ?  [Sev Puri ]</th>\n",
       "      <th>FAST AND FATTY  [Pizza]</th>\n",
       "      <th>FAST AND FATTY  [Burger]</th>\n",
       "      <th>FAST AND FATTY  [French Fries]</th>\n",
       "      <th>FAST AND FATTY  [Pasta]</th>\n",
       "      <th>KUCH MEETHA HO JAYE  [Rasgulla ]</th>\n",
       "      <th>KUCH MEETHA HO JAYE  [Jalebi]</th>\n",
       "      <th>KUCH MEETHA HO JAYE  [Barfi ]</th>\n",
       "      <th>KUCH MEETHA HO JAYE  [Chocolate cake ]</th>\n",
       "    </tr>\n",
       "    <tr>\n",
       "      <th>user_name</th>\n",
       "      <th></th>\n",
       "      <th></th>\n",
       "      <th></th>\n",
       "      <th></th>\n",
       "      <th></th>\n",
       "      <th></th>\n",
       "      <th></th>\n",
       "      <th></th>\n",
       "      <th></th>\n",
       "      <th></th>\n",
       "      <th></th>\n",
       "      <th></th>\n",
       "      <th></th>\n",
       "      <th></th>\n",
       "      <th></th>\n",
       "      <th></th>\n",
       "      <th></th>\n",
       "      <th></th>\n",
       "      <th></th>\n",
       "      <th></th>\n",
       "      <th></th>\n",
       "    </tr>\n",
       "  </thead>\n",
       "  <tbody>\n",
       "    <tr>\n",
       "      <td>User__10</td>\n",
       "      <td>3</td>\n",
       "      <td>4</td>\n",
       "      <td>4</td>\n",
       "      <td>2</td>\n",
       "      <td>4</td>\n",
       "      <td>4</td>\n",
       "      <td>2</td>\n",
       "      <td>3</td>\n",
       "      <td>3</td>\n",
       "      <td>3</td>\n",
       "      <td>...</td>\n",
       "      <td>4</td>\n",
       "      <td>4</td>\n",
       "      <td>4</td>\n",
       "      <td>3</td>\n",
       "      <td>4</td>\n",
       "      <td>4</td>\n",
       "      <td>4</td>\n",
       "      <td>2</td>\n",
       "      <td>2</td>\n",
       "      <td>3</td>\n",
       "    </tr>\n",
       "    <tr>\n",
       "      <td>User__135</td>\n",
       "      <td>4</td>\n",
       "      <td>4</td>\n",
       "      <td>2</td>\n",
       "      <td>1</td>\n",
       "      <td>4</td>\n",
       "      <td>2</td>\n",
       "      <td>2</td>\n",
       "      <td>2</td>\n",
       "      <td>3</td>\n",
       "      <td>2</td>\n",
       "      <td>...</td>\n",
       "      <td>4</td>\n",
       "      <td>3</td>\n",
       "      <td>3</td>\n",
       "      <td>3</td>\n",
       "      <td>4</td>\n",
       "      <td>4</td>\n",
       "      <td>4</td>\n",
       "      <td>2</td>\n",
       "      <td>4</td>\n",
       "      <td>3</td>\n",
       "    </tr>\n",
       "    <tr>\n",
       "      <td>User__161</td>\n",
       "      <td>3</td>\n",
       "      <td>4</td>\n",
       "      <td>4</td>\n",
       "      <td>2</td>\n",
       "      <td>4</td>\n",
       "      <td>3</td>\n",
       "      <td>2</td>\n",
       "      <td>4</td>\n",
       "      <td>2</td>\n",
       "      <td>2</td>\n",
       "      <td>...</td>\n",
       "      <td>4</td>\n",
       "      <td>4</td>\n",
       "      <td>4</td>\n",
       "      <td>3</td>\n",
       "      <td>3</td>\n",
       "      <td>4</td>\n",
       "      <td>4</td>\n",
       "      <td>2</td>\n",
       "      <td>2</td>\n",
       "      <td>3</td>\n",
       "    </tr>\n",
       "    <tr>\n",
       "      <td>User__206</td>\n",
       "      <td>3</td>\n",
       "      <td>4</td>\n",
       "      <td>3</td>\n",
       "      <td>1</td>\n",
       "      <td>4</td>\n",
       "      <td>4</td>\n",
       "      <td>2</td>\n",
       "      <td>4</td>\n",
       "      <td>2</td>\n",
       "      <td>2</td>\n",
       "      <td>...</td>\n",
       "      <td>3</td>\n",
       "      <td>4</td>\n",
       "      <td>4</td>\n",
       "      <td>3</td>\n",
       "      <td>4</td>\n",
       "      <td>3</td>\n",
       "      <td>1</td>\n",
       "      <td>2</td>\n",
       "      <td>2</td>\n",
       "      <td>4</td>\n",
       "    </tr>\n",
       "  </tbody>\n",
       "</table>\n",
       "<p>4 rows × 32 columns</p>\n",
       "</div>"
      ],
      "text/plain": [
       "           PUNJABI TADKA  [Aloo Parantha]  PUNJABI TADKA  [Butter Chicken ]  \\\n",
       "user_name                                                                     \n",
       "User__10                                3                                 4   \n",
       "User__135                               4                                 4   \n",
       "User__161                               3                                 4   \n",
       "User__206                               3                                 4   \n",
       "\n",
       "           PUNJABI TADKA  [Daal Makhani ]  PUNJABI TADKA  [Sarson Da Saag ]  \\\n",
       "user_name                                                                     \n",
       "User__10                                4                                 2   \n",
       "User__135                               2                                 1   \n",
       "User__161                               4                                 2   \n",
       "User__206                               3                                 1   \n",
       "\n",
       "           LUCKNOW KA ZAAYKA  [Mughlai Chicken]  LUCKNOW KA ZAAYKA  [Kabaab ]  \\\n",
       "user_name                                                                       \n",
       "User__10                                      4                             4   \n",
       "User__135                                     4                             2   \n",
       "User__161                                     4                             3   \n",
       "User__206                                     4                             4   \n",
       "\n",
       "           LUCKNOW KA ZAAYKA  [Navratan Korma ]  \\\n",
       "user_name                                         \n",
       "User__10                                      2   \n",
       "User__135                                     2   \n",
       "User__161                                     2   \n",
       "User__206                                     2   \n",
       "\n",
       "           LUCKNOW KA ZAAYKA  [Biryani ]  LET US GO SOUTH [Idli ]  \\\n",
       "user_name                                                           \n",
       "User__10                               3                        3   \n",
       "User__135                              2                        3   \n",
       "User__161                              4                        2   \n",
       "User__206                              4                        2   \n",
       "\n",
       "           LET US GO SOUTH [Bisi Bele Bhaat ]  ...  \\\n",
       "user_name                                      ...   \n",
       "User__10                                    3  ...   \n",
       "User__135                                   2  ...   \n",
       "User__161                                   2  ...   \n",
       "User__206                                   2  ...   \n",
       "\n",
       "           HOW ABOUT SOME CHAAT ?  [Dahi Puri ]  \\\n",
       "user_name                                         \n",
       "User__10                                      4   \n",
       "User__135                                     4   \n",
       "User__161                                     4   \n",
       "User__206                                     3   \n",
       "\n",
       "           HOW ABOUT SOME CHAAT ?  [Sev Puri ]  FAST AND FATTY  [Pizza]  \\\n",
       "user_name                                                                 \n",
       "User__10                                     4                        4   \n",
       "User__135                                    3                        3   \n",
       "User__161                                    4                        4   \n",
       "User__206                                    4                        4   \n",
       "\n",
       "           FAST AND FATTY  [Burger]  FAST AND FATTY  [French Fries]  \\\n",
       "user_name                                                             \n",
       "User__10                          3                               4   \n",
       "User__135                         3                               4   \n",
       "User__161                         3                               3   \n",
       "User__206                         3                               4   \n",
       "\n",
       "           FAST AND FATTY  [Pasta]  KUCH MEETHA HO JAYE  [Rasgulla ]  \\\n",
       "user_name                                                              \n",
       "User__10                         4                                 4   \n",
       "User__135                        4                                 4   \n",
       "User__161                        4                                 4   \n",
       "User__206                        3                                 1   \n",
       "\n",
       "           KUCH MEETHA HO JAYE  [Jalebi]  KUCH MEETHA HO JAYE  [Barfi ]  \\\n",
       "user_name                                                                 \n",
       "User__10                               2                              2   \n",
       "User__135                              2                              4   \n",
       "User__161                              2                              2   \n",
       "User__206                              2                              2   \n",
       "\n",
       "           KUCH MEETHA HO JAYE  [Chocolate cake ]  \n",
       "user_name                                          \n",
       "User__10                                        3  \n",
       "User__135                                       3  \n",
       "User__161                                       3  \n",
       "User__206                                       4  \n",
       "\n",
       "[4 rows x 32 columns]"
      ]
     },
     "execution_count": 158,
     "metadata": {},
     "output_type": "execute_result"
    }
   ],
   "source": [
    "data[(data['PUNJABI TADKA  [Butter Chicken ]']==4) & (data['FAST AND FATTY  [Burger]']==3) & (data['KUCH MEETHA HO JAYE  [Jalebi]']==2) & (data['LET US TALK CHINESE [Fried Rice ]']==3)]"
   ]
  },
  {
   "cell_type": "code",
   "execution_count": 6,
   "metadata": {},
   "outputs": [
    {
     "data": {
      "text/html": [
       "<div>\n",
       "<style scoped>\n",
       "    .dataframe tbody tr th:only-of-type {\n",
       "        vertical-align: middle;\n",
       "    }\n",
       "\n",
       "    .dataframe tbody tr th {\n",
       "        vertical-align: top;\n",
       "    }\n",
       "\n",
       "    .dataframe thead th {\n",
       "        text-align: right;\n",
       "    }\n",
       "</style>\n",
       "<table border=\"1\" class=\"dataframe\">\n",
       "  <thead>\n",
       "    <tr style=\"text-align: right;\">\n",
       "      <th></th>\n",
       "      <th>Unnamed: 0</th>\n",
       "      <th>Food</th>\n",
       "      <th>Ingredients</th>\n",
       "    </tr>\n",
       "  </thead>\n",
       "  <tbody>\n",
       "    <tr>\n",
       "      <td>0</td>\n",
       "      <td>0</td>\n",
       "      <td>Aloo Parantha</td>\n",
       "      <td>250 gm whole wheat flour , Pinch of salt,1 cup...</td>\n",
       "    </tr>\n",
       "    <tr>\n",
       "      <td>1</td>\n",
       "      <td>1</td>\n",
       "      <td>Butter Chicken</td>\n",
       "      <td>1'' pieces ginger, chopped , 3 cloves garlic, ...</td>\n",
       "    </tr>\n",
       "    <tr>\n",
       "      <td>2</td>\n",
       "      <td>2</td>\n",
       "      <td>Daal Makhani</td>\n",
       "      <td>1 cup black lentils (kaali daal) , 1/4 cup spl...</td>\n",
       "    </tr>\n",
       "    <tr>\n",
       "      <td>3</td>\n",
       "      <td>3</td>\n",
       "      <td>Sarson Da Saag</td>\n",
       "      <td>4 Bunch Mustard leaves , 1 1/2 Bunch Spinach ,...</td>\n",
       "    </tr>\n",
       "    <tr>\n",
       "      <td>4</td>\n",
       "      <td>4</td>\n",
       "      <td>Mughlai Chicken</td>\n",
       "      <td>1 inch fresh ginger, peeled , 4 cloves garlic,...</td>\n",
       "    </tr>\n",
       "  </tbody>\n",
       "</table>\n",
       "</div>"
      ],
      "text/plain": [
       "   Unnamed: 0             Food  \\\n",
       "0           0    Aloo Parantha   \n",
       "1           1  Butter Chicken    \n",
       "2           2    Daal Makhani    \n",
       "3           3  Sarson Da Saag    \n",
       "4           4  Mughlai Chicken   \n",
       "\n",
       "                                         Ingredients  \n",
       "0  250 gm whole wheat flour , Pinch of salt,1 cup...  \n",
       "1  1'' pieces ginger, chopped , 3 cloves garlic, ...  \n",
       "2  1 cup black lentils (kaali daal) , 1/4 cup spl...  \n",
       "3  4 Bunch Mustard leaves , 1 1/2 Bunch Spinach ,...  \n",
       "4  1 inch fresh ginger, peeled , 4 cloves garlic,...  "
      ]
     },
     "execution_count": 6,
     "metadata": {},
     "output_type": "execute_result"
    }
   ],
   "source": [
    "recipe_df = pd.read_csv('Recipe.csv')\n",
    "\n",
    "recipe_df.head()"
   ]
  },
  {
   "cell_type": "code",
   "execution_count": 16,
   "metadata": {},
   "outputs": [],
   "source": [
    "item_dict = dict(zip(recipe_df.Food, recipe_df.Ingredients))"
   ]
  },
  {
   "cell_type": "code",
   "execution_count": 25,
   "metadata": {},
   "outputs": [],
   "source": [
    "def get_key(val):\n",
    "    for key, value in item_dict.items():\n",
    "        if val == value:\n",
    "            return key\n",
    "        "
   ]
  },
  {
   "cell_type": "code",
   "execution_count": 72,
   "metadata": {},
   "outputs": [
    {
     "name": "stdout",
     "output_type": "stream",
     "text": [
      "Enter the item you have aalergy with?almonds\n",
      "Item with you have allergy is Mughlai Chicken\n"
     ]
    }
   ],
   "source": [
    "allergy = input('Enter the item you have aalergy with?')\n",
    "\n",
    "dish_list = [] #for multiple items \n",
    "\n",
    "for i in item_dict.values():\n",
    "    if allergy.lower () in i.lower():\n",
    "        dish_name = get_key(i) \n",
    "        print('Item with you have allergy is',dish_name)\n",
    "        dish_list.append(i)\n",
    "    "
   ]
  },
  {
   "cell_type": "code",
   "execution_count": 73,
   "metadata": {},
   "outputs": [
    {
     "data": {
      "text/plain": [
       "'Mughlai Chicken'"
      ]
     },
     "execution_count": 73,
     "metadata": {},
     "output_type": "execute_result"
    }
   ],
   "source": [
    "dish_name"
   ]
  },
  {
   "cell_type": "code",
   "execution_count": 74,
   "metadata": {},
   "outputs": [
    {
     "name": "stdout",
     "output_type": "stream",
     "text": [
      "we are going to update the dish -- Mughlai Chicken\n"
     ]
    }
   ],
   "source": [
    "for i in dish_list:\n",
    "    \n",
    "    if dish_name in d.keys():\n",
    "        print('we are going to update the dish --',dish_name)\n",
    "        del d[dish_name]\n",
    "    "
   ]
  },
  {
   "cell_type": "code",
   "execution_count": 75,
   "metadata": {},
   "outputs": [
    {
     "name": "stdout",
     "output_type": "stream",
     "text": [
      "{'Butter Chicken ': 2.262000417422307, 'Chicken 65': 1.8284740166772855, 'Kabaab ': 1.7966461410653836, 'Chettinad Chicken ': 1.5927874626548768, 'Burger': 1.537364265177526, 'Fried Rice ': 1.5137384084401468, 'Pizza': 1.3077409394006472, 'Biryani ': 1.23097759847592, 'French Fries': 1.2168249460211809, 'Pasta': 1.12676306911609, 'Chocolate cake ': 1.025833194178749, 'American Chop Suey': 0.9791891159653857, 'Rasgulla ': 0.7215184223139446, 'Navratan Korma ': 0.6831097441753723, 'Munchurian': 0.6483526243530131, 'Barfi ': 0.6365740449092183, 'Daal Makhani ': 0.6213898975084317, 'Jalebi': 0.5276872392427621, 'Sev Puri ': 0.3292934488537813, 'Paani Puri ': 0.32028560961222713, 'Dhokla ': 0.3070854614025888, 'Dahi Puri ': 0.25697349248026835, 'Paav Bhaaji ': 0.25452167610346743, 'Khandvi ': 0.2463264312666528, 'Idli ': 0.2284405771079901, 'Sarson Da Saag ': 0.17561823752317754, 'Aloo Parantha': 0.11896471639877186, 'Bisi Bele Bhaat ': 0.11191663383841524, 'Rasam ': 0.09593321974345974, 'Kadhi and Rice ': 0.0009341084734660887}\n"
     ]
    }
   ],
   "source": [
    "print(d)"
   ]
  },
  {
   "cell_type": "code",
   "execution_count": 51,
   "metadata": {},
   "outputs": [
    {
     "data": {
      "text/plain": [
       "pandas.core.series.Series"
      ]
     },
     "execution_count": 51,
     "metadata": {},
     "output_type": "execute_result"
    }
   ],
   "source": [
    "type(similar_food_list)"
   ]
  },
  {
   "cell_type": "code",
   "execution_count": null,
   "metadata": {},
   "outputs": [],
   "source": []
  },
  {
   "cell_type": "code",
   "execution_count": null,
   "metadata": {},
   "outputs": [],
   "source": []
  },
  {
   "cell_type": "code",
   "execution_count": null,
   "metadata": {},
   "outputs": [],
   "source": []
  },
  {
   "cell_type": "code",
   "execution_count": null,
   "metadata": {},
   "outputs": [],
   "source": []
  },
  {
   "cell_type": "code",
   "execution_count": null,
   "metadata": {},
   "outputs": [],
   "source": []
  },
  {
   "cell_type": "code",
   "execution_count": 38,
   "metadata": {},
   "outputs": [],
   "source": [
    "data.drop('Timestamp', axis=1,inplace=True)"
   ]
  },
  {
   "cell_type": "code",
   "execution_count": 27,
   "metadata": {},
   "outputs": [],
   "source": [
    "col = data.columns"
   ]
  },
  {
   "cell_type": "code",
   "execution_count": 43,
   "metadata": {},
   "outputs": [
    {
     "data": {
      "text/plain": [
       "32"
      ]
     },
     "execution_count": 43,
     "metadata": {},
     "output_type": "execute_result"
    }
   ],
   "source": [
    "len(col)"
   ]
  },
  {
   "cell_type": "code",
   "execution_count": 29,
   "metadata": {},
   "outputs": [
    {
     "name": "stdout",
     "output_type": "stream",
     "text": [
      "Most frequent rating is PUNJABI TADKA  [Aloo Parantha]\n",
      "4    95\n",
      "3    89\n",
      "2    28\n",
      "1     5\n",
      "Name: PUNJABI TADKA  [Aloo Parantha], dtype: int64\n",
      "Most frequent rating is PUNJABI TADKA  [Butter Chicken ]\n",
      "4    94\n",
      "1    63\n",
      "3    35\n",
      "2    25\n",
      "Name: PUNJABI TADKA  [Butter Chicken ], dtype: int64\n",
      "Most frequent rating is PUNJABI TADKA  [Daal Makhani ]\n",
      "4    70\n",
      "3    69\n",
      "2    69\n",
      "1     9\n",
      "Name: PUNJABI TADKA  [Daal Makhani ], dtype: int64\n",
      "Most frequent rating is PUNJABI TADKA  [Sarson Da Saag ]\n",
      "2    93\n",
      "3    54\n",
      "4    39\n",
      "1    31\n",
      "Name: PUNJABI TADKA  [Sarson Da Saag ], dtype: int64\n",
      "Most frequent rating is LUCKNOW KA ZAAYKA  [Mughlai Chicken]\n",
      "4    81\n",
      "1    66\n",
      "3    39\n",
      "2    31\n",
      "Name: LUCKNOW KA ZAAYKA  [Mughlai Chicken], dtype: int64\n",
      "Most frequent rating is LUCKNOW KA ZAAYKA  [Kabaab ]\n",
      "4    93\n",
      "1    53\n",
      "3    47\n",
      "2    24\n",
      "Name: LUCKNOW KA ZAAYKA  [Kabaab ], dtype: int64\n",
      "Most frequent rating is LUCKNOW KA ZAAYKA  [Navratan Korma ]\n",
      "2    83\n",
      "3    52\n",
      "1    52\n",
      "4    30\n",
      "Name: LUCKNOW KA ZAAYKA  [Navratan Korma ], dtype: int64\n",
      "Most frequent rating is LUCKNOW KA ZAAYKA  [Biryani ]\n",
      "4    106\n",
      "3     60\n",
      "2     30\n",
      "1     21\n",
      "Name: LUCKNOW KA ZAAYKA  [Biryani ], dtype: int64\n",
      "Most frequent rating is LET US GO SOUTH [Idli ]\n",
      "4    92\n",
      "3    74\n",
      "2    43\n",
      "1     8\n",
      "Name: LET US GO SOUTH [Idli ], dtype: int64\n",
      "Most frequent rating is LET US GO SOUTH [Bisi Bele Bhaat ]\n",
      "2    109\n",
      "3     41\n",
      "4     35\n",
      "1     32\n",
      "Name: LET US GO SOUTH [Bisi Bele Bhaat ], dtype: int64\n",
      "Most frequent rating is LET US GO SOUTH [Rasam ]\n",
      "2    78\n",
      "3    62\n",
      "4    53\n",
      "1    24\n",
      "Name: LET US GO SOUTH [Rasam ], dtype: int64\n",
      "Most frequent rating is LET US GO SOUTH [Chettinad Chicken ]\n",
      "1    70\n",
      "4    66\n",
      "3    42\n",
      "2    39\n",
      "Name: LET US GO SOUTH [Chettinad Chicken ], dtype: int64\n",
      "Most frequent rating is VIBRANT GUJARAT [Dhokla ]\n",
      "3    97\n",
      "4    70\n",
      "2    39\n",
      "1    11\n",
      "Name: VIBRANT GUJARAT [Dhokla ], dtype: int64\n",
      "Most frequent rating is VIBRANT GUJARAT [Thepla]\n",
      "3    89\n",
      "2    60\n",
      "4    58\n",
      "1    10\n",
      "Name: VIBRANT GUJARAT [Thepla], dtype: int64\n",
      "Most frequent rating is VIBRANT GUJARAT [Khandvi ]\n",
      "3    70\n",
      "2    67\n",
      "4    64\n",
      "1    16\n",
      "Name: VIBRANT GUJARAT [Khandvi ], dtype: int64\n",
      "Most frequent rating is VIBRANT GUJARAT [Kadhi and Rice ]\n",
      "3    74\n",
      "2    70\n",
      "4    56\n",
      "1    17\n",
      "Name: VIBRANT GUJARAT [Kadhi and Rice ], dtype: int64\n",
      "Most frequent rating is LET US TALK CHINESE [Fried Rice ]\n",
      "4    80\n",
      "3    80\n",
      "2    51\n",
      "1     6\n",
      "Name: LET US TALK CHINESE [Fried Rice ], dtype: int64\n",
      "Most frequent rating is LET US TALK CHINESE [Munchurian]\n",
      "3    93\n",
      "4    69\n",
      "2    49\n",
      "1     6\n",
      "Name: LET US TALK CHINESE [Munchurian], dtype: int64\n",
      "Most frequent rating is LET US TALK CHINESE [American Chop Suey]\n",
      "2.0    78\n",
      "3.0    57\n",
      "4.0    46\n",
      "1.0    35\n",
      "Name: LET US TALK CHINESE [American Chop Suey], dtype: int64\n",
      "Most frequent rating is LET US TALK CHINESE [Chicken 65]\n",
      "1    65\n",
      "4    62\n",
      "3    52\n",
      "2    38\n",
      "Name: LET US TALK CHINESE [Chicken 65], dtype: int64\n",
      "Most frequent rating is HOW ABOUT SOME CHAAT ?  [Paani Puri ]\n",
      "4    164\n",
      "3     37\n",
      "2     12\n",
      "1      4\n",
      "Name: HOW ABOUT SOME CHAAT ?  [Paani Puri ], dtype: int64\n",
      "Most frequent rating is HOW ABOUT SOME CHAAT ?  [Paav Bhaaji ]\n",
      "4    129\n",
      "3     59\n",
      "2     27\n",
      "1      2\n",
      "Name: HOW ABOUT SOME CHAAT ?  [Paav Bhaaji ], dtype: int64\n",
      "Most frequent rating is HOW ABOUT SOME CHAAT ?  [Dahi Puri ]\n",
      "4    120\n",
      "3     57\n",
      "2     27\n",
      "1     13\n",
      "Name: HOW ABOUT SOME CHAAT ?  [Dahi Puri ], dtype: int64\n",
      "Most frequent rating is HOW ABOUT SOME CHAAT ?  [Sev Puri ]\n",
      "4    133\n",
      "3     60\n",
      "2     18\n",
      "1      6\n",
      "Name: HOW ABOUT SOME CHAAT ?  [Sev Puri ], dtype: int64\n",
      "Most frequent rating is FAST AND FATTY  [Pizza]\n",
      "4    99\n",
      "3    66\n",
      "2    37\n",
      "1    15\n",
      "Name: FAST AND FATTY  [Pizza], dtype: int64\n",
      "Most frequent rating is FAST AND FATTY  [Burger]\n",
      "4    89\n",
      "3    61\n",
      "2    49\n",
      "1    18\n",
      "Name: FAST AND FATTY  [Burger], dtype: int64\n",
      "Most frequent rating is FAST AND FATTY  [French Fries]\n",
      "4    102\n",
      "2     48\n",
      "3     47\n",
      "1     20\n",
      "Name: FAST AND FATTY  [French Fries], dtype: int64\n",
      "Most frequent rating is FAST AND FATTY  [Pasta]\n",
      "4    77\n",
      "3    69\n",
      "2    44\n",
      "1    27\n",
      "Name: FAST AND FATTY  [Pasta], dtype: int64\n",
      "Most frequent rating is KUCH MEETHA HO JAYE  [Rasgulla ]\n",
      "4    125\n",
      "3     51\n",
      "2     27\n",
      "1     14\n",
      "Name: KUCH MEETHA HO JAYE  [Rasgulla ], dtype: int64\n",
      "Most frequent rating is KUCH MEETHA HO JAYE  [Jalebi]\n",
      "4    99\n",
      "3    59\n",
      "2    51\n",
      "1     8\n",
      "Name: KUCH MEETHA HO JAYE  [Jalebi], dtype: int64\n",
      "Most frequent rating is KUCH MEETHA HO JAYE  [Barfi ]\n",
      "4    73\n",
      "2    67\n",
      "3    60\n",
      "1    17\n",
      "Name: KUCH MEETHA HO JAYE  [Barfi ], dtype: int64\n",
      "Most frequent rating is KUCH MEETHA HO JAYE  [Chocolate cake ]\n",
      "4    104\n",
      "3     56\n",
      "2     44\n",
      "1     13\n",
      "Name: KUCH MEETHA HO JAYE  [Chocolate cake ], dtype: int64\n"
     ]
    }
   ],
   "source": [
    "for i in range(len(col)):\n",
    "    print('Most frequent rating is {}'.format(col[i]))\n",
    "    print(data[col[i]].value_counts())\n",
    "    "
   ]
  },
  {
   "cell_type": "code",
   "execution_count": null,
   "metadata": {},
   "outputs": [],
   "source": [
    "##Collabaratinf filterting start h"
   ]
  },
  {
   "cell_type": "code",
   "execution_count": 34,
   "metadata": {},
   "outputs": [
    {
     "data": {
      "text/plain": [
       "(217, 32)"
      ]
     },
     "execution_count": 34,
     "metadata": {},
     "output_type": "execute_result"
    }
   ],
   "source": [
    "data.shape"
   ]
  },
  {
   "cell_type": "code",
   "execution_count": 33,
   "metadata": {},
   "outputs": [],
   "source": [
    "data.drop('Timestamp',axis=1, inplace=True)"
   ]
  },
  {
   "cell_type": "code",
   "execution_count": 40,
   "metadata": {},
   "outputs": [
    {
     "data": {
      "text/html": [
       "<div>\n",
       "<style scoped>\n",
       "    .dataframe tbody tr th:only-of-type {\n",
       "        vertical-align: middle;\n",
       "    }\n",
       "\n",
       "    .dataframe tbody tr th {\n",
       "        vertical-align: top;\n",
       "    }\n",
       "\n",
       "    .dataframe thead th {\n",
       "        text-align: right;\n",
       "    }\n",
       "</style>\n",
       "<table border=\"1\" class=\"dataframe\">\n",
       "  <thead>\n",
       "    <tr style=\"text-align: right;\">\n",
       "      <th></th>\n",
       "      <th>PUNJABI TADKA  [Aloo Parantha]</th>\n",
       "      <th>PUNJABI TADKA  [Butter Chicken ]</th>\n",
       "      <th>PUNJABI TADKA  [Daal Makhani ]</th>\n",
       "      <th>PUNJABI TADKA  [Sarson Da Saag ]</th>\n",
       "      <th>LUCKNOW KA ZAAYKA  [Mughlai Chicken]</th>\n",
       "      <th>LUCKNOW KA ZAAYKA  [Kabaab ]</th>\n",
       "      <th>LUCKNOW KA ZAAYKA  [Navratan Korma ]</th>\n",
       "      <th>LUCKNOW KA ZAAYKA  [Biryani ]</th>\n",
       "      <th>LET US GO SOUTH [Idli ]</th>\n",
       "      <th>LET US GO SOUTH [Bisi Bele Bhaat ]</th>\n",
       "      <th>...</th>\n",
       "      <th>HOW ABOUT SOME CHAAT ?  [Dahi Puri ]</th>\n",
       "      <th>HOW ABOUT SOME CHAAT ?  [Sev Puri ]</th>\n",
       "      <th>FAST AND FATTY  [Pizza]</th>\n",
       "      <th>FAST AND FATTY  [Burger]</th>\n",
       "      <th>FAST AND FATTY  [French Fries]</th>\n",
       "      <th>FAST AND FATTY  [Pasta]</th>\n",
       "      <th>KUCH MEETHA HO JAYE  [Rasgulla ]</th>\n",
       "      <th>KUCH MEETHA HO JAYE  [Jalebi]</th>\n",
       "      <th>KUCH MEETHA HO JAYE  [Barfi ]</th>\n",
       "      <th>KUCH MEETHA HO JAYE  [Chocolate cake ]</th>\n",
       "    </tr>\n",
       "    <tr>\n",
       "      <th>user_name</th>\n",
       "      <th></th>\n",
       "      <th></th>\n",
       "      <th></th>\n",
       "      <th></th>\n",
       "      <th></th>\n",
       "      <th></th>\n",
       "      <th></th>\n",
       "      <th></th>\n",
       "      <th></th>\n",
       "      <th></th>\n",
       "      <th></th>\n",
       "      <th></th>\n",
       "      <th></th>\n",
       "      <th></th>\n",
       "      <th></th>\n",
       "      <th></th>\n",
       "      <th></th>\n",
       "      <th></th>\n",
       "      <th></th>\n",
       "      <th></th>\n",
       "      <th></th>\n",
       "    </tr>\n",
       "  </thead>\n",
       "  <tbody>\n",
       "    <tr>\n",
       "      <td>User__0</td>\n",
       "      <td>3</td>\n",
       "      <td>1</td>\n",
       "      <td>4</td>\n",
       "      <td>4</td>\n",
       "      <td>1</td>\n",
       "      <td>1</td>\n",
       "      <td>1</td>\n",
       "      <td>4</td>\n",
       "      <td>3</td>\n",
       "      <td>4</td>\n",
       "      <td>...</td>\n",
       "      <td>4</td>\n",
       "      <td>3</td>\n",
       "      <td>3</td>\n",
       "      <td>4</td>\n",
       "      <td>2</td>\n",
       "      <td>3</td>\n",
       "      <td>4</td>\n",
       "      <td>4</td>\n",
       "      <td>4</td>\n",
       "      <td>4</td>\n",
       "    </tr>\n",
       "    <tr>\n",
       "      <td>User__1</td>\n",
       "      <td>4</td>\n",
       "      <td>1</td>\n",
       "      <td>3</td>\n",
       "      <td>2</td>\n",
       "      <td>1</td>\n",
       "      <td>1</td>\n",
       "      <td>1</td>\n",
       "      <td>1</td>\n",
       "      <td>4</td>\n",
       "      <td>2</td>\n",
       "      <td>...</td>\n",
       "      <td>4</td>\n",
       "      <td>4</td>\n",
       "      <td>4</td>\n",
       "      <td>4</td>\n",
       "      <td>4</td>\n",
       "      <td>4</td>\n",
       "      <td>4</td>\n",
       "      <td>4</td>\n",
       "      <td>4</td>\n",
       "      <td>4</td>\n",
       "    </tr>\n",
       "    <tr>\n",
       "      <td>User__2</td>\n",
       "      <td>4</td>\n",
       "      <td>4</td>\n",
       "      <td>4</td>\n",
       "      <td>2</td>\n",
       "      <td>2</td>\n",
       "      <td>4</td>\n",
       "      <td>2</td>\n",
       "      <td>4</td>\n",
       "      <td>2</td>\n",
       "      <td>2</td>\n",
       "      <td>...</td>\n",
       "      <td>3</td>\n",
       "      <td>3</td>\n",
       "      <td>4</td>\n",
       "      <td>4</td>\n",
       "      <td>4</td>\n",
       "      <td>4</td>\n",
       "      <td>4</td>\n",
       "      <td>3</td>\n",
       "      <td>4</td>\n",
       "      <td>4</td>\n",
       "    </tr>\n",
       "    <tr>\n",
       "      <td>User__3</td>\n",
       "      <td>4</td>\n",
       "      <td>1</td>\n",
       "      <td>2</td>\n",
       "      <td>1</td>\n",
       "      <td>1</td>\n",
       "      <td>1</td>\n",
       "      <td>1</td>\n",
       "      <td>1</td>\n",
       "      <td>4</td>\n",
       "      <td>2</td>\n",
       "      <td>...</td>\n",
       "      <td>4</td>\n",
       "      <td>4</td>\n",
       "      <td>4</td>\n",
       "      <td>4</td>\n",
       "      <td>4</td>\n",
       "      <td>4</td>\n",
       "      <td>4</td>\n",
       "      <td>4</td>\n",
       "      <td>4</td>\n",
       "      <td>4</td>\n",
       "    </tr>\n",
       "    <tr>\n",
       "      <td>User__4</td>\n",
       "      <td>3</td>\n",
       "      <td>4</td>\n",
       "      <td>3</td>\n",
       "      <td>3</td>\n",
       "      <td>4</td>\n",
       "      <td>4</td>\n",
       "      <td>2</td>\n",
       "      <td>3</td>\n",
       "      <td>1</td>\n",
       "      <td>1</td>\n",
       "      <td>...</td>\n",
       "      <td>4</td>\n",
       "      <td>4</td>\n",
       "      <td>4</td>\n",
       "      <td>4</td>\n",
       "      <td>2</td>\n",
       "      <td>1</td>\n",
       "      <td>4</td>\n",
       "      <td>3</td>\n",
       "      <td>4</td>\n",
       "      <td>4</td>\n",
       "    </tr>\n",
       "  </tbody>\n",
       "</table>\n",
       "<p>5 rows × 32 columns</p>\n",
       "</div>"
      ],
      "text/plain": [
       "           PUNJABI TADKA  [Aloo Parantha]  PUNJABI TADKA  [Butter Chicken ]  \\\n",
       "user_name                                                                     \n",
       "User__0                                 3                                 1   \n",
       "User__1                                 4                                 1   \n",
       "User__2                                 4                                 4   \n",
       "User__3                                 4                                 1   \n",
       "User__4                                 3                                 4   \n",
       "\n",
       "           PUNJABI TADKA  [Daal Makhani ]  PUNJABI TADKA  [Sarson Da Saag ]  \\\n",
       "user_name                                                                     \n",
       "User__0                                 4                                 4   \n",
       "User__1                                 3                                 2   \n",
       "User__2                                 4                                 2   \n",
       "User__3                                 2                                 1   \n",
       "User__4                                 3                                 3   \n",
       "\n",
       "           LUCKNOW KA ZAAYKA  [Mughlai Chicken]  LUCKNOW KA ZAAYKA  [Kabaab ]  \\\n",
       "user_name                                                                       \n",
       "User__0                                       1                             1   \n",
       "User__1                                       1                             1   \n",
       "User__2                                       2                             4   \n",
       "User__3                                       1                             1   \n",
       "User__4                                       4                             4   \n",
       "\n",
       "           LUCKNOW KA ZAAYKA  [Navratan Korma ]  \\\n",
       "user_name                                         \n",
       "User__0                                       1   \n",
       "User__1                                       1   \n",
       "User__2                                       2   \n",
       "User__3                                       1   \n",
       "User__4                                       2   \n",
       "\n",
       "           LUCKNOW KA ZAAYKA  [Biryani ]  LET US GO SOUTH [Idli ]  \\\n",
       "user_name                                                           \n",
       "User__0                                4                        3   \n",
       "User__1                                1                        4   \n",
       "User__2                                4                        2   \n",
       "User__3                                1                        4   \n",
       "User__4                                3                        1   \n",
       "\n",
       "           LET US GO SOUTH [Bisi Bele Bhaat ]  ...  \\\n",
       "user_name                                      ...   \n",
       "User__0                                     4  ...   \n",
       "User__1                                     2  ...   \n",
       "User__2                                     2  ...   \n",
       "User__3                                     2  ...   \n",
       "User__4                                     1  ...   \n",
       "\n",
       "           HOW ABOUT SOME CHAAT ?  [Dahi Puri ]  \\\n",
       "user_name                                         \n",
       "User__0                                       4   \n",
       "User__1                                       4   \n",
       "User__2                                       3   \n",
       "User__3                                       4   \n",
       "User__4                                       4   \n",
       "\n",
       "           HOW ABOUT SOME CHAAT ?  [Sev Puri ]  FAST AND FATTY  [Pizza]  \\\n",
       "user_name                                                                 \n",
       "User__0                                      3                        3   \n",
       "User__1                                      4                        4   \n",
       "User__2                                      3                        4   \n",
       "User__3                                      4                        4   \n",
       "User__4                                      4                        4   \n",
       "\n",
       "           FAST AND FATTY  [Burger]  FAST AND FATTY  [French Fries]  \\\n",
       "user_name                                                             \n",
       "User__0                           4                               2   \n",
       "User__1                           4                               4   \n",
       "User__2                           4                               4   \n",
       "User__3                           4                               4   \n",
       "User__4                           4                               2   \n",
       "\n",
       "           FAST AND FATTY  [Pasta]  KUCH MEETHA HO JAYE  [Rasgulla ]  \\\n",
       "user_name                                                              \n",
       "User__0                          3                                 4   \n",
       "User__1                          4                                 4   \n",
       "User__2                          4                                 4   \n",
       "User__3                          4                                 4   \n",
       "User__4                          1                                 4   \n",
       "\n",
       "           KUCH MEETHA HO JAYE  [Jalebi]  KUCH MEETHA HO JAYE  [Barfi ]  \\\n",
       "user_name                                                                 \n",
       "User__0                                4                              4   \n",
       "User__1                                4                              4   \n",
       "User__2                                3                              4   \n",
       "User__3                                4                              4   \n",
       "User__4                                3                              4   \n",
       "\n",
       "           KUCH MEETHA HO JAYE  [Chocolate cake ]  \n",
       "user_name                                          \n",
       "User__0                                         4  \n",
       "User__1                                         4  \n",
       "User__2                                         4  \n",
       "User__3                                         4  \n",
       "User__4                                         4  \n",
       "\n",
       "[5 rows x 32 columns]"
      ]
     },
     "execution_count": 40,
     "metadata": {},
     "output_type": "execute_result"
    }
   ],
   "source": [
    "data.head()"
   ]
  },
  {
   "cell_type": "code",
   "execution_count": 58,
   "metadata": {},
   "outputs": [
    {
     "data": {
      "text/plain": [
       "PUNJABI TADKA  [Aloo Parantha]              0\n",
       "PUNJABI TADKA  [Butter Chicken ]            0\n",
       "PUNJABI TADKA  [Daal Makhani ]              0\n",
       "PUNJABI TADKA  [Sarson Da Saag ]            0\n",
       "LUCKNOW KA ZAAYKA  [Mughlai Chicken]        0\n",
       "LUCKNOW KA ZAAYKA  [Kabaab ]                0\n",
       "LUCKNOW KA ZAAYKA  [Navratan Korma ]        0\n",
       "LUCKNOW KA ZAAYKA  [Biryani ]               0\n",
       "LET US GO SOUTH [Idli ]                     0\n",
       "LET US GO SOUTH [Bisi Bele Bhaat ]          0\n",
       "LET US GO SOUTH [Rasam ]                    0\n",
       "LET US GO SOUTH [Chettinad Chicken ]        0\n",
       "VIBRANT GUJARAT [Dhokla ]                   0\n",
       "VIBRANT GUJARAT [Thepla]                    0\n",
       "VIBRANT GUJARAT [Khandvi ]                  0\n",
       "VIBRANT GUJARAT [Kadhi and Rice ]           0\n",
       "LET US TALK CHINESE [Fried Rice ]           0\n",
       "LET US TALK CHINESE [Munchurian]            0\n",
       "LET US TALK CHINESE [American Chop Suey]    0\n",
       "LET US TALK CHINESE [Chicken 65]            0\n",
       "HOW ABOUT SOME CHAAT ?  [Paani Puri ]       0\n",
       "HOW ABOUT SOME CHAAT ?  [Paav Bhaaji ]      0\n",
       "HOW ABOUT SOME CHAAT ?  [Dahi Puri ]        0\n",
       "HOW ABOUT SOME CHAAT ?  [Sev Puri ]         0\n",
       "FAST AND FATTY  [Pizza]                     0\n",
       "FAST AND FATTY  [Burger]                    0\n",
       "FAST AND FATTY  [French Fries]              0\n",
       "FAST AND FATTY  [Pasta]                     0\n",
       "KUCH MEETHA HO JAYE  [Rasgulla ]            0\n",
       "KUCH MEETHA HO JAYE  [Jalebi]               0\n",
       "KUCH MEETHA HO JAYE  [Barfi ]               0\n",
       "KUCH MEETHA HO JAYE  [Chocolate cake ]      0\n",
       "dtype: int64"
      ]
     },
     "execution_count": 58,
     "metadata": {},
     "output_type": "execute_result"
    }
   ],
   "source": [
    "data.isnull().sum()"
   ]
  },
  {
   "cell_type": "code",
   "execution_count": 57,
   "metadata": {},
   "outputs": [],
   "source": [
    "data.fillna(1,inplace=True)"
   ]
  },
  {
   "cell_type": "code",
   "execution_count": 36,
   "metadata": {},
   "outputs": [],
   "source": [
    "mat = np.zeros((217,32))"
   ]
  },
  {
   "cell_type": "code",
   "execution_count": 73,
   "metadata": {},
   "outputs": [],
   "source": [
    "mat= np.array(data)"
   ]
  },
  {
   "cell_type": "code",
   "execution_count": 109,
   "metadata": {},
   "outputs": [
    {
     "data": {
      "text/plain": [
       "array([[3., 4., 4., ..., 4., 4., 2.],\n",
       "       [1., 1., 4., ..., 1., 1., 3.],\n",
       "       [4., 3., 4., ..., 1., 2., 2.],\n",
       "       ...,\n",
       "       [4., 4., 3., ..., 1., 2., 2.],\n",
       "       [4., 4., 4., ..., 1., 1., 2.],\n",
       "       [4., 4., 4., ..., 4., 4., 2.]])"
      ]
     },
     "execution_count": 109,
     "metadata": {},
     "output_type": "execute_result"
    }
   ],
   "source": [
    "mat.T"
   ]
  },
  {
   "cell_type": "code",
   "execution_count": 74,
   "metadata": {},
   "outputs": [],
   "source": [
    "train_mat = mat[0:169]\n",
    "test_mat = mat[169:]"
   ]
  },
  {
   "cell_type": "code",
   "execution_count": 75,
   "metadata": {},
   "outputs": [],
   "source": [
    "from sklearn.metrics.pairwise import pairwise_distances \n",
    "user_similarity = pairwise_distances(train_mat, metric='cosine')\n",
    "item_similarity = pairwise_distances(train_mat.T, metric='cosine')"
   ]
  },
  {
   "cell_type": "code",
   "execution_count": 76,
   "metadata": {},
   "outputs": [
    {
     "data": {
      "text/plain": [
       "array([[0.        , 0.06963542, 0.09150327, ..., 0.11095402, 0.10746547,\n",
       "        0.17592861],\n",
       "       [0.06963542, 0.        , 0.09773368, ..., 0.11228043, 0.09663332,\n",
       "        0.18020847],\n",
       "       [0.09150327, 0.09773368, 0.        , ..., 0.07078231, 0.07306684,\n",
       "        0.10197349],\n",
       "       ...,\n",
       "       [0.11095402, 0.11228043, 0.07078231, ..., 0.        , 0.03814208,\n",
       "        0.04087125],\n",
       "       [0.10746547, 0.09663332, 0.07306684, ..., 0.03814208, 0.        ,\n",
       "        0.08155507],\n",
       "       [0.17592861, 0.18020847, 0.10197349, ..., 0.04087125, 0.08155507,\n",
       "        0.        ]])"
      ]
     },
     "execution_count": 76,
     "metadata": {},
     "output_type": "execute_result"
    }
   ],
   "source": [
    "user_similarity"
   ]
  },
  {
   "cell_type": "code",
   "execution_count": 77,
   "metadata": {},
   "outputs": [
    {
     "data": {
      "text/plain": [
       "array([[0.        , 0.1252634 , 0.0552065 , ..., 0.04791022, 0.07343689,\n",
       "        0.05836889],\n",
       "       [0.1252634 , 0.        , 0.12168639, ..., 0.11966642, 0.12161117,\n",
       "        0.12813143],\n",
       "       [0.0552065 , 0.12168639, 0.        , ..., 0.06872657, 0.08810241,\n",
       "        0.06539843],\n",
       "       ...,\n",
       "       [0.04791022, 0.11966642, 0.06872657, ..., 0.        , 0.04783563,\n",
       "        0.04703313],\n",
       "       [0.07343689, 0.12161117, 0.08810241, ..., 0.04783563, 0.        ,\n",
       "        0.05603233],\n",
       "       [0.05836889, 0.12813143, 0.06539843, ..., 0.04703313, 0.05603233,\n",
       "        0.        ]])"
      ]
     },
     "execution_count": 77,
     "metadata": {},
     "output_type": "execute_result"
    }
   ],
   "source": [
    "item_similarity"
   ]
  },
  {
   "cell_type": "code",
   "execution_count": 78,
   "metadata": {},
   "outputs": [],
   "source": [
    "mean_user_rating = train_mat.mean(axis=1)[:, np.newaxis] "
   ]
  },
  {
   "cell_type": "code",
   "execution_count": 79,
   "metadata": {},
   "outputs": [],
   "source": [
    "ratings_diff = (train_mat - mean_user_rating) "
   ]
  },
  {
   "cell_type": "code",
   "execution_count": 80,
   "metadata": {},
   "outputs": [
    {
     "data": {
      "text/plain": [
       "array([[ 0.21875, -1.78125,  1.21875, ...,  1.21875,  1.21875,  1.21875],\n",
       "       [ 0.90625, -2.09375, -0.09375, ...,  0.90625,  0.90625,  0.90625],\n",
       "       [ 0.9375 ,  0.9375 ,  0.9375 , ..., -0.0625 ,  0.9375 ,  0.9375 ],\n",
       "       ...,\n",
       "       [ 0.5625 ,  0.5625 , -0.4375 , ..., -0.4375 , -1.4375 , -1.4375 ],\n",
       "       [ 0.96875, -1.03125, -1.03125, ...,  0.96875, -1.03125, -1.03125],\n",
       "       [ 0.21875,  1.21875,  1.21875, ..., -0.78125, -1.78125, -1.78125]])"
      ]
     },
     "execution_count": 80,
     "metadata": {},
     "output_type": "execute_result"
    }
   ],
   "source": [
    "ratings_diff"
   ]
  },
  {
   "cell_type": "code",
   "execution_count": 81,
   "metadata": {},
   "outputs": [],
   "source": [
    "\n",
    "user_pred = mean_user_rating + user_similarity.dot(ratings_diff) / np.array([np.abs(user_similarity).sum(axis=1)]).T"
   ]
  },
  {
   "cell_type": "code",
   "execution_count": 110,
   "metadata": {},
   "outputs": [
    {
     "data": {
      "text/plain": [
       "169"
      ]
     },
     "execution_count": 110,
     "metadata": {},
     "output_type": "execute_result"
    }
   ],
   "source": [
    "user_pred"
   ]
  },
  {
   "cell_type": "code",
   "execution_count": 83,
   "metadata": {},
   "outputs": [],
   "source": [
    "item_pred = train_mat.dot(item_similarity) / np.array([np.abs(item_similarity).sum(axis=1)])\n"
   ]
  },
  {
   "cell_type": "code",
   "execution_count": 84,
   "metadata": {},
   "outputs": [
    {
     "data": {
      "text/plain": [
       "array([[2.51900496, 3.00727831, 2.56589726, ..., 2.5483547 , 2.58184299,\n",
       "        2.49896362],\n",
       "       [2.70356137, 3.3711022 , 2.87425903, ..., 2.75441387, 2.80763333,\n",
       "        2.68260026],\n",
       "       [2.98869238, 2.98947495, 2.98388225, ..., 2.95690386, 2.95008373,\n",
       "        2.90522918],\n",
       "       ...,\n",
       "       [3.46642609, 3.39599087, 3.47414444, ..., 3.52649847, 3.53888089,\n",
       "        3.55928381],\n",
       "       [2.9605277 , 3.01298157, 3.06000572, ..., 2.98599936, 3.02818318,\n",
       "        3.03370682],\n",
       "       [2.91716354, 2.58133353, 2.83942582, ..., 2.94192522, 2.93837934,\n",
       "        2.98387552]])"
      ]
     },
     "execution_count": 84,
     "metadata": {},
     "output_type": "execute_result"
    }
   ],
   "source": [
    "item_pred"
   ]
  },
  {
   "cell_type": "code",
   "execution_count": 88,
   "metadata": {},
   "outputs": [],
   "source": [
    "from sklearn.metrics import mean_squared_error\n",
    "from math import sqrt"
   ]
  },
  {
   "cell_type": "code",
   "execution_count": 89,
   "metadata": {},
   "outputs": [
    {
     "name": "stdout",
     "output_type": "stream",
     "text": [
      "Collaborative Filtering RMSE\n",
      "User-based:  1.0134638357497359\n",
      "Movie-based:  1.080251608475638\n"
     ]
    }
   ],
   "source": [
    "def rmse(pred, test):\n",
    "    pred = pred[test.nonzero()].flatten() \n",
    "    test = test[test.nonzero()].flatten()\n",
    "    return sqrt(mean_squared_error(pred, test))\n",
    "\n",
    "print(\"Collaborative Filtering RMSE\")\n",
    "print('User-based: ', rmse(user_pred, test_mat))   # ~3.12584229228\n",
    "print('Movie-based: ', rmse(item_pred, test_mat))"
   ]
  },
  {
   "cell_type": "code",
   "execution_count": 95,
   "metadata": {},
   "outputs": [],
   "source": [
    "pred = user_pred[test_mat.nonzero()]\n"
   ]
  },
  {
   "cell_type": "code",
   "execution_count": 98,
   "metadata": {},
   "outputs": [
    {
     "data": {
      "text/plain": [
       "2.773097800976996"
      ]
     },
     "execution_count": 98,
     "metadata": {},
     "output_type": "execute_result"
    }
   ],
   "source": [
    "pred[]"
   ]
  },
  {
   "cell_type": "code",
   "execution_count": 99,
   "metadata": {},
   "outputs": [],
   "source": [
    "def predict(ratings, similarity, type='user'):\n",
    "    if type == 'user':\n",
    "        mean_user_rating = ratings.mean(axis=1)\n",
    "        #We use np.newaxis so that mean_user_rating has same format as ratings\n",
    "        ratings_diff = (ratings - mean_user_rating[:, np.newaxis])\n",
    "        pred = mean_user_rating[:, np.newaxis] + similarity.dot(ratings_diff) / np.array([np.abs(similarity).sum(axis=1)]).T\n",
    "    elif type == 'item':\n",
    "        pred = ratings.dot(similarity) / np.array([np.abs(similarity).sum(axis=1)])\n",
    "    return pred"
   ]
  },
  {
   "cell_type": "code",
   "execution_count": 112,
   "metadata": {},
   "outputs": [],
   "source": [
    "\n",
    "item_prediction = predict(test_mat, item_similarity, type='item')"
   ]
  },
  {
   "cell_type": "code",
   "execution_count": 116,
   "metadata": {},
   "outputs": [
    {
     "data": {
      "text/plain": [
       "array([[2.30033447, 1.9790185 , 2.49951876, ..., 1.97450744, 2.32682374,\n",
       "        2.58484179],\n",
       "       [2.29016091, 2.37608283, 2.5423362 , ..., 2.4018319 , 2.88991104,\n",
       "        2.43754928],\n",
       "       [2.30051967, 2.11422861, 2.45557532, ..., 2.11036078, 2.48341609,\n",
       "        2.55492586],\n",
       "       ...,\n",
       "       [2.3312649 , 2.04336288, 2.56529317, ..., 2.10992774, 2.45041996,\n",
       "        2.58439527],\n",
       "       [2.33492159, 2.11073007, 2.57839443, ..., 2.15406225, 2.51469998,\n",
       "        2.56871384],\n",
       "       [2.39066793, 2.07505166, 2.59004431, ..., 1.99020445, 2.33165437,\n",
       "        2.61488754]])"
      ]
     },
     "execution_count": 116,
     "metadata": {},
     "output_type": "execute_result"
    }
   ],
   "source": [
    "item_prediction.T"
   ]
  },
  {
   "cell_type": "code",
   "execution_count": 117,
   "metadata": {},
   "outputs": [
    {
     "data": {
      "text/plain": [
       "array([[3., 3., 3., ..., 2., 2., 2.],\n",
       "       [2., 1., 2., ..., 4., 1., 1.],\n",
       "       [2., 3., 4., ..., 2., 1., 2.],\n",
       "       ...,\n",
       "       [4., 1., 1., ..., 1., 1., 4.],\n",
       "       [4., 1., 2., ..., 2., 1., 4.],\n",
       "       [2., 3., 2., ..., 2., 2., 2.]])"
      ]
     },
     "execution_count": 117,
     "metadata": {},
     "output_type": "execute_result"
    }
   ],
   "source": [
    "test_mat"
   ]
  },
  {
   "cell_type": "code",
   "execution_count": 107,
   "metadata": {},
   "outputs": [
    {
     "data": {
      "text/plain": [
       "array([[2.51900496, 3.00727831, 2.56589726, ..., 2.5483547 , 2.58184299,\n",
       "        2.49896362],\n",
       "       [2.70356137, 3.3711022 , 2.87425903, ..., 2.75441387, 2.80763333,\n",
       "        2.68260026],\n",
       "       [2.98869238, 2.98947495, 2.98388225, ..., 2.95690386, 2.95008373,\n",
       "        2.90522918],\n",
       "       ...,\n",
       "       [3.46642609, 3.39599087, 3.47414444, ..., 3.52649847, 3.53888089,\n",
       "        3.55928381],\n",
       "       [2.9605277 , 3.01298157, 3.06000572, ..., 2.98599936, 3.02818318,\n",
       "        3.03370682],\n",
       "       [2.91716354, 2.58133353, 2.83942582, ..., 2.94192522, 2.93837934,\n",
       "        2.98387552]])"
      ]
     },
     "execution_count": 107,
     "metadata": {},
     "output_type": "execute_result"
    }
   ],
   "source": [
    "item_prediction"
   ]
  },
  {
   "cell_type": "code",
   "execution_count": 42,
   "metadata": {},
   "outputs": [
    {
     "data": {
      "image/png": "[encoded data removed]",
      "text/plain": [
       "<Figure size 720x576 with 1 Axes>"
      ]
     },
     "metadata": {
      "needs_background": "light"
     },
     "output_type": "display_data"
    },
    {
     "data": {
      "image/png": "[encoded data removed]",
      "text/plain": [
       "<Figure size 720x576 with 1 Axes>"
      ]
     },
     "metadata": {
      "needs_background": "light"
     },
     "output_type": "display_data"
    },
    {
     "data": {
      "image/png": "[encoded data removed]",
      "text/plain": [
       "<Figure size 720x576 with 1 Axes>"
      ]
     },
     "metadata": {
      "needs_background": "light"
     },
     "output_type": "display_data"
    },
    {
     "data": {
      "image/png": "[encoded data removed]",
      "text/plain": [
       "<Figure size 720x576 with 1 Axes>"
      ]
     },
     "metadata": {
      "needs_background": "light"
     },
     "output_type": "display_data"
    }
   ],
   "source": [
    "for i in range(0,4):\n",
    "    plt.figure(figsize=(10,8))\n",
    "    plt.subplot(2,2,i+1)\n",
    "    plt.title('Most frequent rating in {}'.format(col[i]))\n",
    "    data[col[i]].value_counts(normalize=True).plot(kind='bar')"
   ]
  },
  {
   "cell_type": "code",
   "execution_count": 32,
   "metadata": {},
   "outputs": [],
   "source": [
    "import matplotlib.pyplot as plt"
   ]
  },
  {
   "cell_type": "code",
   "execution_count": 45,
   "metadata": {},
   "outputs": [
    {
     "data": {
      "image/png": "[encoded data removed]",
      "text/plain": [
       "<Figure size 720x576 with 1 Axes>"
      ]
     },
     "metadata": {
      "needs_background": "light"
     },
     "output_type": "display_data"
    },
    {
     "data": {
      "image/png": "[encoded data removed]",
      "text/plain": [
       "<Figure size 720x576 with 1 Axes>"
      ]
     },
     "metadata": {
      "needs_background": "light"
     },
     "output_type": "display_data"
    },
    {
     "data": {
      "image/png": "[encoded data removed]",
      "text/plain": [
       "<Figure size 720x576 with 1 Axes>"
      ]
     },
     "metadata": {
      "needs_background": "light"
     },
     "output_type": "display_data"
    },
    {
     "data": {
      "image/png": "[encoded data removed]",
      "text/plain": [
       "<Figure size 720x576 with 1 Axes>"
      ]
     },
     "metadata": {
      "needs_background": "light"
     },
     "output_type": "display_data"
    }
   ],
   "source": [
    "for i in range(4,8):\n",
    "    plt.figure(figsize=(10,8))\n",
    "    plt.subplot(2,2,i-4+1)\n",
    "    plt.title('Most frequent rating in {}'.format(col[i]))\n",
    "    data[col[i]].value_counts(normalize=True).plot(kind='bar')"
   ]
  },
  {
   "cell_type": "code",
   "execution_count": 47,
   "metadata": {},
   "outputs": [
    {
     "data": {
      "image/png": "[encoded data removed]",
      "text/plain": [
       "<Figure size 720x576 with 1 Axes>"
      ]
     },
     "metadata": {
      "needs_background": "light"
     },
     "output_type": "display_data"
    },
    {
     "data": {
      "image/png": "[encoded data removed]",
      "text/plain": [
       "<Figure size 720x576 with 1 Axes>"
      ]
     },
     "metadata": {
      "needs_background": "light"
     },
     "output_type": "display_data"
    },
    {
     "data": {
      "image/png": "[encoded data removed]",
      "text/plain": [
       "<Figure size 720x576 with 1 Axes>"
      ]
     },
     "metadata": {
      "needs_background": "light"
     },
     "output_type": "display_data"
    },
    {
     "data": {
      "image/png": "[encoded data removed]",
      "text/plain": [
       "<Figure size 720x576 with 1 Axes>"
      ]
     },
     "metadata": {
      "needs_background": "light"
     },
     "output_type": "display_data"
    }
   ],
   "source": [
    "for i in range(8,12):\n",
    "    plt.figure(figsize=(10,8))\n",
    "    plt.subplot(2,2,i-8+1)\n",
    "    plt.title('Most frequent rating in {}'.format(col[i]))\n",
    "    data[col[i]].value_counts(normalize=True).plot(kind='bar')"
   ]
  },
  {
   "cell_type": "code",
   "execution_count": 48,
   "metadata": {},
   "outputs": [
    {
     "data": {
      "image/png": "[encoded data removed]",
      "text/plain": [
       "<Figure size 720x576 with 1 Axes>"
      ]
     },
     "metadata": {
      "needs_background": "light"
     },
     "output_type": "display_data"
    },
    {
     "data": {
      "image/png": "[encoded data removed]",
      "text/plain": [
       "<Figure size 720x576 with 1 Axes>"
      ]
     },
     "metadata": {
      "needs_background": "light"
     },
     "output_type": "display_data"
    },
    {
     "data": {
      "image/png": "[encoded data removed]",
      "text/plain": [
       "<Figure size 720x576 with 1 Axes>"
      ]
     },
     "metadata": {
      "needs_background": "light"
     },
     "output_type": "display_data"
    },
    {
     "data": {
      "image/png": "[encoded data removed]",
      "text/plain": [
       "<Figure size 720x576 with 1 Axes>"
      ]
     },
     "metadata": {
      "needs_background": "light"
     },
     "output_type": "display_data"
    }
   ],
   "source": [
    "for i in range(12,16):\n",
    "    plt.figure(figsize=(10,8))\n",
    "    plt.subplot(2,2,i-12+1)\n",
    "    plt.title('Most frequent rating in {}'.format(col[i]))\n",
    "    data[col[i]].value_counts(normalize=True).plot(kind='bar')"
   ]
  },
  {
   "cell_type": "code",
   "execution_count": 49,
   "metadata": {},
   "outputs": [
    {
     "data": {
      "image/png": "[encoded data removed]",
      "text/plain": [
       "<Figure size 720x576 with 1 Axes>"
      ]
     },
     "metadata": {
      "needs_background": "light"
     },
     "output_type": "display_data"
    },
    {
     "data": {
      "image/png": "[encoded data removed]",
      "text/plain": [
       "<Figure size 720x576 with 1 Axes>"
      ]
     },
     "metadata": {
      "needs_background": "light"
     },
     "output_type": "display_data"
    },
    {
     "data": {
      "image/png": "[encoded data removed]",
      "text/plain": [
       "<Figure size 720x576 with 1 Axes>"
      ]
     },
     "metadata": {
      "needs_background": "light"
     },
     "output_type": "display_data"
    },
    {
     "data": {
      "image/png": "[encoded data removed]",
      "text/plain": [
       "<Figure size 720x576 with 1 Axes>"
      ]
     },
     "metadata": {
      "needs_background": "light"
     },
     "output_type": "display_data"
    }
   ],
   "source": [
    "for i in range(16,20):\n",
    "    plt.figure(figsize=(10,8))\n",
    "    plt.subplot(2,2,i-16+1)\n",
    "    plt.title('Most frequent rating in {}'.format(col[i]))\n",
    "    data[col[i]].value_counts(normalize=True).plot(kind='bar')"
   ]
  },
  {
   "cell_type": "code",
   "execution_count": 50,
   "metadata": {},
   "outputs": [
    {
     "data": {
      "image/png": "[encoded data removed]",
      "text/plain": [
       "<Figure size 720x576 with 1 Axes>"
      ]
     },
     "metadata": {
      "needs_background": "light"
     },
     "output_type": "display_data"
    },
    {
     "data": {
      "image/png": "[encoded data removed]",
      "text/plain": [
       "<Figure size 720x576 with 1 Axes>"
      ]
     },
     "metadata": {
      "needs_background": "light"
     },
     "output_type": "display_data"
    },
    {
     "data": {
      "image/png": "[encoded data removed]",
      "text/plain": [
       "<Figure size 720x576 with 1 Axes>"
      ]
     },
     "metadata": {
      "needs_background": "light"
     },
     "output_type": "display_data"
    },
    {
     "data": {
      "image/png": "[encoded data removed]",
      "text/plain": [
       "<Figure size 720x576 with 1 Axes>"
      ]
     },
     "metadata": {
      "needs_background": "light"
     },
     "output_type": "display_data"
    }
   ],
   "source": [
    "for i in range(20,24):\n",
    "    plt.figure(figsize=(10,8))\n",
    "    plt.subplot(2,2,i-20+1)\n",
    "    plt.title('Most frequent rating in {}'.format(col[i]))\n",
    "    data[col[i]].value_counts(normalize=True).plot(kind='bar')"
   ]
  },
  {
   "cell_type": "code",
   "execution_count": 51,
   "metadata": {},
   "outputs": [
    {
     "data": {
      "image/png": "[encoded data removed]",
      "text/plain": [
       "<Figure size 720x576 with 1 Axes>"
      ]
     },
     "metadata": {
      "needs_background": "light"
     },
     "output_type": "display_data"
    },
    {
     "data": {
      "image/png": "[encoded data removed]",
      "text/plain": [
       "<Figure size 720x576 with 1 Axes>"
      ]
     },
     "metadata": {
      "needs_background": "light"
     },
     "output_type": "display_data"
    },
    {
     "data": {
      "image/png": "[encoded data removed]",
      "text/plain": [
       "<Figure size 720x576 with 1 Axes>"
      ]
     },
     "metadata": {
      "needs_background": "light"
     },
     "output_type": "display_data"
    },
    {
     "data": {
      "image/png": "[encoded data removed]",
      "text/plain": [
       "<Figure size 720x576 with 1 Axes>"
      ]
     },
     "metadata": {
      "needs_background": "light"
     },
     "output_type": "display_data"
    }
   ],
   "source": [
    "for i in range(24,28):\n",
    "    plt.figure(figsize=(10,8))\n",
    "    plt.subplot(2,2,i-24+1)\n",
    "    plt.title('Most frequent rating in {}'.format(col[i]))\n",
    "    data[col[i]].value_counts(normalize=True).plot(kind='bar')"
   ]
  },
  {
   "cell_type": "code",
   "execution_count": 52,
   "metadata": {},
   "outputs": [
    {
     "data": {
      "image/png": "[encoded data removed]",
      "text/plain": [
       "<Figure size 720x576 with 1 Axes>"
      ]
     },
     "metadata": {
      "needs_background": "light"
     },
     "output_type": "display_data"
    },
    {
     "data": {
      "image/png": "[encoded data removed]",
      "text/plain": [
       "<Figure size 720x576 with 1 Axes>"
      ]
     },
     "metadata": {
      "needs_background": "light"
     },
     "output_type": "display_data"
    },
    {
     "data": {
      "image/png": "[encoded data removed]",
      "text/plain": [
       "<Figure size 720x576 with 1 Axes>"
      ]
     },
     "metadata": {
      "needs_background": "light"
     },
     "output_type": "display_data"
    },
    {
     "data": {
      "image/png": "[encoded data removed]",
      "text/plain": [
       "<Figure size 720x576 with 1 Axes>"
      ]
     },
     "metadata": {
      "needs_background": "light"
     },
     "output_type": "display_data"
    }
   ],
   "source": [
    "for i in range(28,32):\n",
    "    plt.figure(figsize=(10,8))\n",
    "    plt.subplot(2,2,i-28+1)\n",
    "    plt.title('Most frequent rating in {}'.format(col[i]))\n",
    "    data[col[i]].value_counts(normalize=True).plot(kind='bar')"
   ]
  }
 ],
 "metadata": {
  "kernelspec": {
   "display_name": "Python 3",
   "language": "python",
   "name": "python3"
  },
  "language_info": {
   "codemirror_mode": {
    "name": "ipython",
    "version": 3
   },
   "file_extension": ".py",
   "mimetype": "text/x-python",
   "name": "python",
   "nbconvert_exporter": "python",
   "pygments_lexer": "ipython3",
   "version": "3.7.4"
  }
 },
 "nbformat": 4,
 "nbformat_minor": 2
}
